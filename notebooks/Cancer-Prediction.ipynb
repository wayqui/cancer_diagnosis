{
 "cells": [
  {
   "cell_type": "markdown",
   "id": "070b7f8b",
   "metadata": {},
   "source": [
    "# Predicting Cancer using Diagnostic Wisconsin Breast Cancer Database"
   ]
  },
  {
   "cell_type": "markdown",
   "id": "780c6680",
   "metadata": {},
   "source": [
    "## Import libraris\n",
    "\n",
    "\n"
   ]
  },
  {
   "cell_type": "code",
   "execution_count": 1318,
   "id": "ebaa30bc",
   "metadata": {},
   "outputs": [],
   "source": [
    "import pandas as pd\n",
    "import matplotlib.pyplot as plt\n",
    "import numpy as np\n",
    "\n",
    "from sklearn.model_selection import train_test_split\n",
    "from sklearn import metrics\n",
    "\n",
    "from sklearn.model_selection import GridSearchCV\n",
    "\n",
    "from sklearn.model_selection import cross_val_score\n",
    "\n",
    "from sklearn.naive_bayes import GaussianNB\n",
    "from sklearn.ensemble import RandomForestClassifier\n",
    "from sklearn.linear_model import LogisticRegression\n",
    "from sklearn.linear_model import LogisticRegressionCV\n",
    "from sklearn import svm\n",
    "from sklearn.tree import DecisionTreeClassifier\n",
    "from sklearn.neighbors import KNeighborsClassifier\n",
    "from sklearn.cluster import KMeans\n",
    "\n",
    "from sklearn.metrics import roc_auc_score\n",
    "\n",
    "# Do ploting inline instead of in a separate window\n",
    "%matplotlib inline"
   ]
  },
  {
   "cell_type": "markdown",
   "id": "6949091c",
   "metadata": {},
   "source": [
    "## Loading and Reviewing data"
   ]
  },
  {
   "cell_type": "code",
   "execution_count": 1319,
   "id": "fa6b4dbf",
   "metadata": {},
   "outputs": [],
   "source": [
    "# Load Wisconsin Breast Cancer Database \n",
    "df = pd.read_csv(\"cancer_2.csv\")"
   ]
  },
  {
   "cell_type": "code",
   "execution_count": 1320,
   "id": "9fd13dc4",
   "metadata": {},
   "outputs": [
    {
     "data": {
      "text/plain": [
       "(699, 11)"
      ]
     },
     "execution_count": 1320,
     "metadata": {},
     "output_type": "execute_result"
    }
   ],
   "source": [
    "# (Number of rows, number of columns)\n",
    "df.shape"
   ]
  },
  {
   "cell_type": "code",
   "execution_count": 1321,
   "id": "8b7f05e6",
   "metadata": {},
   "outputs": [
    {
     "name": "stdout",
     "output_type": "stream",
     "text": [
      "<class 'pandas.core.frame.DataFrame'>\n",
      "RangeIndex: 699 entries, 0 to 698\n",
      "Data columns (total 11 columns):\n",
      " #   Column                       Non-Null Count  Dtype \n",
      "---  ------                       --------------  ----- \n",
      " 0   Sample code number           699 non-null    int64 \n",
      " 1   Clump Thickness              699 non-null    int64 \n",
      " 2   Uniformity of Cell Size      699 non-null    int64 \n",
      " 3   Uniformity of Cell Shape     699 non-null    int64 \n",
      " 4   Marginal Adhesion            699 non-null    int64 \n",
      " 5   Single Epithelial Cell Size  699 non-null    int64 \n",
      " 6   Bare Nuclei                  699 non-null    object\n",
      " 7   Bland Chromatin              699 non-null    int64 \n",
      " 8   Normal Nucleoli              699 non-null    int64 \n",
      " 9   Mitoses                      699 non-null    int64 \n",
      " 10  Class                        699 non-null    int64 \n",
      "dtypes: int64(10), object(1)\n",
      "memory usage: 60.2+ KB\n"
     ]
    }
   ],
   "source": [
    "# Information of the datasets (columns, datatypes)\n",
    "df.info()"
   ]
  },
  {
   "cell_type": "code",
   "execution_count": 1322,
   "id": "b657f2c2",
   "metadata": {},
   "outputs": [
    {
     "data": {
      "text/html": [
       "<div>\n",
       "<style scoped>\n",
       "    .dataframe tbody tr th:only-of-type {\n",
       "        vertical-align: middle;\n",
       "    }\n",
       "\n",
       "    .dataframe tbody tr th {\n",
       "        vertical-align: top;\n",
       "    }\n",
       "\n",
       "    .dataframe thead th {\n",
       "        text-align: right;\n",
       "    }\n",
       "</style>\n",
       "<table border=\"1\" class=\"dataframe\">\n",
       "  <thead>\n",
       "    <tr style=\"text-align: right;\">\n",
       "      <th></th>\n",
       "      <th>Sample code number</th>\n",
       "      <th>Clump Thickness</th>\n",
       "      <th>Uniformity of Cell Size</th>\n",
       "      <th>Uniformity of Cell Shape</th>\n",
       "      <th>Marginal Adhesion</th>\n",
       "      <th>Single Epithelial Cell Size</th>\n",
       "      <th>Bare Nuclei</th>\n",
       "      <th>Bland Chromatin</th>\n",
       "      <th>Normal Nucleoli</th>\n",
       "      <th>Mitoses</th>\n",
       "      <th>Class</th>\n",
       "    </tr>\n",
       "  </thead>\n",
       "  <tbody>\n",
       "    <tr>\n",
       "      <th>0</th>\n",
       "      <td>1000025</td>\n",
       "      <td>5</td>\n",
       "      <td>1</td>\n",
       "      <td>1</td>\n",
       "      <td>1</td>\n",
       "      <td>2</td>\n",
       "      <td>1</td>\n",
       "      <td>3</td>\n",
       "      <td>1</td>\n",
       "      <td>1</td>\n",
       "      <td>2</td>\n",
       "    </tr>\n",
       "    <tr>\n",
       "      <th>1</th>\n",
       "      <td>1002945</td>\n",
       "      <td>5</td>\n",
       "      <td>4</td>\n",
       "      <td>4</td>\n",
       "      <td>5</td>\n",
       "      <td>7</td>\n",
       "      <td>10</td>\n",
       "      <td>3</td>\n",
       "      <td>2</td>\n",
       "      <td>1</td>\n",
       "      <td>2</td>\n",
       "    </tr>\n",
       "    <tr>\n",
       "      <th>2</th>\n",
       "      <td>1015425</td>\n",
       "      <td>3</td>\n",
       "      <td>1</td>\n",
       "      <td>1</td>\n",
       "      <td>1</td>\n",
       "      <td>2</td>\n",
       "      <td>2</td>\n",
       "      <td>3</td>\n",
       "      <td>1</td>\n",
       "      <td>1</td>\n",
       "      <td>2</td>\n",
       "    </tr>\n",
       "    <tr>\n",
       "      <th>3</th>\n",
       "      <td>1016277</td>\n",
       "      <td>6</td>\n",
       "      <td>8</td>\n",
       "      <td>8</td>\n",
       "      <td>1</td>\n",
       "      <td>3</td>\n",
       "      <td>4</td>\n",
       "      <td>3</td>\n",
       "      <td>7</td>\n",
       "      <td>1</td>\n",
       "      <td>2</td>\n",
       "    </tr>\n",
       "    <tr>\n",
       "      <th>4</th>\n",
       "      <td>1017023</td>\n",
       "      <td>4</td>\n",
       "      <td>1</td>\n",
       "      <td>1</td>\n",
       "      <td>3</td>\n",
       "      <td>2</td>\n",
       "      <td>1</td>\n",
       "      <td>3</td>\n",
       "      <td>1</td>\n",
       "      <td>1</td>\n",
       "      <td>2</td>\n",
       "    </tr>\n",
       "    <tr>\n",
       "      <th>5</th>\n",
       "      <td>1017122</td>\n",
       "      <td>8</td>\n",
       "      <td>10</td>\n",
       "      <td>10</td>\n",
       "      <td>8</td>\n",
       "      <td>7</td>\n",
       "      <td>10</td>\n",
       "      <td>9</td>\n",
       "      <td>7</td>\n",
       "      <td>1</td>\n",
       "      <td>4</td>\n",
       "    </tr>\n",
       "    <tr>\n",
       "      <th>6</th>\n",
       "      <td>1018099</td>\n",
       "      <td>1</td>\n",
       "      <td>1</td>\n",
       "      <td>1</td>\n",
       "      <td>1</td>\n",
       "      <td>2</td>\n",
       "      <td>10</td>\n",
       "      <td>3</td>\n",
       "      <td>1</td>\n",
       "      <td>1</td>\n",
       "      <td>2</td>\n",
       "    </tr>\n",
       "    <tr>\n",
       "      <th>7</th>\n",
       "      <td>1018561</td>\n",
       "      <td>2</td>\n",
       "      <td>1</td>\n",
       "      <td>2</td>\n",
       "      <td>1</td>\n",
       "      <td>2</td>\n",
       "      <td>1</td>\n",
       "      <td>3</td>\n",
       "      <td>1</td>\n",
       "      <td>1</td>\n",
       "      <td>2</td>\n",
       "    </tr>\n",
       "    <tr>\n",
       "      <th>8</th>\n",
       "      <td>1033078</td>\n",
       "      <td>2</td>\n",
       "      <td>1</td>\n",
       "      <td>1</td>\n",
       "      <td>1</td>\n",
       "      <td>2</td>\n",
       "      <td>1</td>\n",
       "      <td>1</td>\n",
       "      <td>1</td>\n",
       "      <td>5</td>\n",
       "      <td>2</td>\n",
       "    </tr>\n",
       "    <tr>\n",
       "      <th>9</th>\n",
       "      <td>1033078</td>\n",
       "      <td>4</td>\n",
       "      <td>2</td>\n",
       "      <td>1</td>\n",
       "      <td>1</td>\n",
       "      <td>2</td>\n",
       "      <td>1</td>\n",
       "      <td>2</td>\n",
       "      <td>1</td>\n",
       "      <td>1</td>\n",
       "      <td>2</td>\n",
       "    </tr>\n",
       "  </tbody>\n",
       "</table>\n",
       "</div>"
      ],
      "text/plain": [
       "   Sample code number  Clump Thickness  Uniformity of Cell Size  \\\n",
       "0             1000025                5                        1   \n",
       "1             1002945                5                        4   \n",
       "2             1015425                3                        1   \n",
       "3             1016277                6                        8   \n",
       "4             1017023                4                        1   \n",
       "5             1017122                8                       10   \n",
       "6             1018099                1                        1   \n",
       "7             1018561                2                        1   \n",
       "8             1033078                2                        1   \n",
       "9             1033078                4                        2   \n",
       "\n",
       "   Uniformity of Cell Shape  Marginal Adhesion  Single Epithelial Cell Size  \\\n",
       "0                         1                  1                            2   \n",
       "1                         4                  5                            7   \n",
       "2                         1                  1                            2   \n",
       "3                         8                  1                            3   \n",
       "4                         1                  3                            2   \n",
       "5                        10                  8                            7   \n",
       "6                         1                  1                            2   \n",
       "7                         2                  1                            2   \n",
       "8                         1                  1                            2   \n",
       "9                         1                  1                            2   \n",
       "\n",
       "  Bare Nuclei  Bland Chromatin  Normal Nucleoli  Mitoses  Class  \n",
       "0           1                3                1        1      2  \n",
       "1          10                3                2        1      2  \n",
       "2           2                3                1        1      2  \n",
       "3           4                3                7        1      2  \n",
       "4           1                3                1        1      2  \n",
       "5          10                9                7        1      4  \n",
       "6          10                3                1        1      2  \n",
       "7           1                3                1        1      2  \n",
       "8           1                1                1        5      2  \n",
       "9           1                2                1        1      2  "
      ]
     },
     "execution_count": 1322,
     "metadata": {},
     "output_type": "execute_result"
    }
   ],
   "source": [
    "# Inspect the 10 first rows of the newly loaded data\n",
    "df.head(10)"
   ]
  },
  {
   "cell_type": "code",
   "execution_count": 1323,
   "id": "570a9a53",
   "metadata": {},
   "outputs": [
    {
     "data": {
      "text/html": [
       "<div>\n",
       "<style scoped>\n",
       "    .dataframe tbody tr th:only-of-type {\n",
       "        vertical-align: middle;\n",
       "    }\n",
       "\n",
       "    .dataframe tbody tr th {\n",
       "        vertical-align: top;\n",
       "    }\n",
       "\n",
       "    .dataframe thead th {\n",
       "        text-align: right;\n",
       "    }\n",
       "</style>\n",
       "<table border=\"1\" class=\"dataframe\">\n",
       "  <thead>\n",
       "    <tr style=\"text-align: right;\">\n",
       "      <th></th>\n",
       "      <th>Sample code number</th>\n",
       "      <th>Clump Thickness</th>\n",
       "      <th>Uniformity of Cell Size</th>\n",
       "      <th>Uniformity of Cell Shape</th>\n",
       "      <th>Marginal Adhesion</th>\n",
       "      <th>Single Epithelial Cell Size</th>\n",
       "      <th>Bare Nuclei</th>\n",
       "      <th>Bland Chromatin</th>\n",
       "      <th>Normal Nucleoli</th>\n",
       "      <th>Mitoses</th>\n",
       "      <th>Class</th>\n",
       "    </tr>\n",
       "  </thead>\n",
       "  <tbody>\n",
       "    <tr>\n",
       "      <th>689</th>\n",
       "      <td>654546</td>\n",
       "      <td>1</td>\n",
       "      <td>1</td>\n",
       "      <td>1</td>\n",
       "      <td>1</td>\n",
       "      <td>2</td>\n",
       "      <td>1</td>\n",
       "      <td>1</td>\n",
       "      <td>1</td>\n",
       "      <td>8</td>\n",
       "      <td>2</td>\n",
       "    </tr>\n",
       "    <tr>\n",
       "      <th>690</th>\n",
       "      <td>654546</td>\n",
       "      <td>1</td>\n",
       "      <td>1</td>\n",
       "      <td>1</td>\n",
       "      <td>3</td>\n",
       "      <td>2</td>\n",
       "      <td>1</td>\n",
       "      <td>1</td>\n",
       "      <td>1</td>\n",
       "      <td>1</td>\n",
       "      <td>2</td>\n",
       "    </tr>\n",
       "    <tr>\n",
       "      <th>691</th>\n",
       "      <td>695091</td>\n",
       "      <td>5</td>\n",
       "      <td>10</td>\n",
       "      <td>10</td>\n",
       "      <td>5</td>\n",
       "      <td>4</td>\n",
       "      <td>5</td>\n",
       "      <td>4</td>\n",
       "      <td>4</td>\n",
       "      <td>1</td>\n",
       "      <td>4</td>\n",
       "    </tr>\n",
       "    <tr>\n",
       "      <th>692</th>\n",
       "      <td>714039</td>\n",
       "      <td>3</td>\n",
       "      <td>1</td>\n",
       "      <td>1</td>\n",
       "      <td>1</td>\n",
       "      <td>2</td>\n",
       "      <td>1</td>\n",
       "      <td>1</td>\n",
       "      <td>1</td>\n",
       "      <td>1</td>\n",
       "      <td>2</td>\n",
       "    </tr>\n",
       "    <tr>\n",
       "      <th>693</th>\n",
       "      <td>763235</td>\n",
       "      <td>3</td>\n",
       "      <td>1</td>\n",
       "      <td>1</td>\n",
       "      <td>1</td>\n",
       "      <td>2</td>\n",
       "      <td>1</td>\n",
       "      <td>2</td>\n",
       "      <td>1</td>\n",
       "      <td>2</td>\n",
       "      <td>2</td>\n",
       "    </tr>\n",
       "    <tr>\n",
       "      <th>694</th>\n",
       "      <td>776715</td>\n",
       "      <td>3</td>\n",
       "      <td>1</td>\n",
       "      <td>1</td>\n",
       "      <td>1</td>\n",
       "      <td>3</td>\n",
       "      <td>2</td>\n",
       "      <td>1</td>\n",
       "      <td>1</td>\n",
       "      <td>1</td>\n",
       "      <td>2</td>\n",
       "    </tr>\n",
       "    <tr>\n",
       "      <th>695</th>\n",
       "      <td>841769</td>\n",
       "      <td>2</td>\n",
       "      <td>1</td>\n",
       "      <td>1</td>\n",
       "      <td>1</td>\n",
       "      <td>2</td>\n",
       "      <td>1</td>\n",
       "      <td>1</td>\n",
       "      <td>1</td>\n",
       "      <td>1</td>\n",
       "      <td>2</td>\n",
       "    </tr>\n",
       "    <tr>\n",
       "      <th>696</th>\n",
       "      <td>888820</td>\n",
       "      <td>5</td>\n",
       "      <td>10</td>\n",
       "      <td>10</td>\n",
       "      <td>3</td>\n",
       "      <td>7</td>\n",
       "      <td>3</td>\n",
       "      <td>8</td>\n",
       "      <td>10</td>\n",
       "      <td>2</td>\n",
       "      <td>4</td>\n",
       "    </tr>\n",
       "    <tr>\n",
       "      <th>697</th>\n",
       "      <td>897471</td>\n",
       "      <td>4</td>\n",
       "      <td>8</td>\n",
       "      <td>6</td>\n",
       "      <td>4</td>\n",
       "      <td>3</td>\n",
       "      <td>4</td>\n",
       "      <td>10</td>\n",
       "      <td>6</td>\n",
       "      <td>1</td>\n",
       "      <td>4</td>\n",
       "    </tr>\n",
       "    <tr>\n",
       "      <th>698</th>\n",
       "      <td>897471</td>\n",
       "      <td>4</td>\n",
       "      <td>8</td>\n",
       "      <td>8</td>\n",
       "      <td>5</td>\n",
       "      <td>4</td>\n",
       "      <td>5</td>\n",
       "      <td>10</td>\n",
       "      <td>4</td>\n",
       "      <td>1</td>\n",
       "      <td>4</td>\n",
       "    </tr>\n",
       "  </tbody>\n",
       "</table>\n",
       "</div>"
      ],
      "text/plain": [
       "     Sample code number  Clump Thickness  Uniformity of Cell Size  \\\n",
       "689              654546                1                        1   \n",
       "690              654546                1                        1   \n",
       "691              695091                5                       10   \n",
       "692              714039                3                        1   \n",
       "693              763235                3                        1   \n",
       "694              776715                3                        1   \n",
       "695              841769                2                        1   \n",
       "696              888820                5                       10   \n",
       "697              897471                4                        8   \n",
       "698              897471                4                        8   \n",
       "\n",
       "     Uniformity of Cell Shape  Marginal Adhesion  Single Epithelial Cell Size  \\\n",
       "689                         1                  1                            2   \n",
       "690                         1                  3                            2   \n",
       "691                        10                  5                            4   \n",
       "692                         1                  1                            2   \n",
       "693                         1                  1                            2   \n",
       "694                         1                  1                            3   \n",
       "695                         1                  1                            2   \n",
       "696                        10                  3                            7   \n",
       "697                         6                  4                            3   \n",
       "698                         8                  5                            4   \n",
       "\n",
       "    Bare Nuclei  Bland Chromatin  Normal Nucleoli  Mitoses  Class  \n",
       "689           1                1                1        8      2  \n",
       "690           1                1                1        1      2  \n",
       "691           5                4                4        1      4  \n",
       "692           1                1                1        1      2  \n",
       "693           1                2                1        2      2  \n",
       "694           2                1                1        1      2  \n",
       "695           1                1                1        1      2  \n",
       "696           3                8               10        2      4  \n",
       "697           4               10                6        1      4  \n",
       "698           5               10                4        1      4  "
      ]
     },
     "execution_count": 1323,
     "metadata": {},
     "output_type": "execute_result"
    }
   ],
   "source": [
    "# Inspect the 10 LAST rows of the data\n",
    "df.tail(10)"
   ]
  },
  {
   "cell_type": "code",
   "execution_count": 1324,
   "id": "c9dd78b7",
   "metadata": {},
   "outputs": [
    {
     "data": {
      "text/html": [
       "<div>\n",
       "<style scoped>\n",
       "    .dataframe tbody tr th:only-of-type {\n",
       "        vertical-align: middle;\n",
       "    }\n",
       "\n",
       "    .dataframe tbody tr th {\n",
       "        vertical-align: top;\n",
       "    }\n",
       "\n",
       "    .dataframe thead th {\n",
       "        text-align: right;\n",
       "    }\n",
       "</style>\n",
       "<table border=\"1\" class=\"dataframe\">\n",
       "  <thead>\n",
       "    <tr style=\"text-align: right;\">\n",
       "      <th></th>\n",
       "      <th>Sample code number</th>\n",
       "      <th>Clump Thickness</th>\n",
       "      <th>Uniformity of Cell Size</th>\n",
       "      <th>Uniformity of Cell Shape</th>\n",
       "      <th>Marginal Adhesion</th>\n",
       "      <th>Single Epithelial Cell Size</th>\n",
       "      <th>Bland Chromatin</th>\n",
       "      <th>Normal Nucleoli</th>\n",
       "      <th>Mitoses</th>\n",
       "      <th>Class</th>\n",
       "    </tr>\n",
       "  </thead>\n",
       "  <tbody>\n",
       "    <tr>\n",
       "      <th>count</th>\n",
       "      <td>6.990000e+02</td>\n",
       "      <td>699.000000</td>\n",
       "      <td>699.000000</td>\n",
       "      <td>699.000000</td>\n",
       "      <td>699.000000</td>\n",
       "      <td>699.000000</td>\n",
       "      <td>699.000000</td>\n",
       "      <td>699.000000</td>\n",
       "      <td>699.000000</td>\n",
       "      <td>699.000000</td>\n",
       "    </tr>\n",
       "    <tr>\n",
       "      <th>mean</th>\n",
       "      <td>1.071704e+06</td>\n",
       "      <td>4.417740</td>\n",
       "      <td>3.134478</td>\n",
       "      <td>3.207439</td>\n",
       "      <td>2.806867</td>\n",
       "      <td>3.216023</td>\n",
       "      <td>3.437768</td>\n",
       "      <td>2.866953</td>\n",
       "      <td>1.589413</td>\n",
       "      <td>2.689557</td>\n",
       "    </tr>\n",
       "    <tr>\n",
       "      <th>std</th>\n",
       "      <td>6.170957e+05</td>\n",
       "      <td>2.815741</td>\n",
       "      <td>3.051459</td>\n",
       "      <td>2.971913</td>\n",
       "      <td>2.855379</td>\n",
       "      <td>2.214300</td>\n",
       "      <td>2.438364</td>\n",
       "      <td>3.053634</td>\n",
       "      <td>1.715078</td>\n",
       "      <td>0.951273</td>\n",
       "    </tr>\n",
       "    <tr>\n",
       "      <th>min</th>\n",
       "      <td>6.163400e+04</td>\n",
       "      <td>1.000000</td>\n",
       "      <td>1.000000</td>\n",
       "      <td>1.000000</td>\n",
       "      <td>1.000000</td>\n",
       "      <td>1.000000</td>\n",
       "      <td>1.000000</td>\n",
       "      <td>1.000000</td>\n",
       "      <td>1.000000</td>\n",
       "      <td>2.000000</td>\n",
       "    </tr>\n",
       "    <tr>\n",
       "      <th>25%</th>\n",
       "      <td>8.706885e+05</td>\n",
       "      <td>2.000000</td>\n",
       "      <td>1.000000</td>\n",
       "      <td>1.000000</td>\n",
       "      <td>1.000000</td>\n",
       "      <td>2.000000</td>\n",
       "      <td>2.000000</td>\n",
       "      <td>1.000000</td>\n",
       "      <td>1.000000</td>\n",
       "      <td>2.000000</td>\n",
       "    </tr>\n",
       "    <tr>\n",
       "      <th>50%</th>\n",
       "      <td>1.171710e+06</td>\n",
       "      <td>4.000000</td>\n",
       "      <td>1.000000</td>\n",
       "      <td>1.000000</td>\n",
       "      <td>1.000000</td>\n",
       "      <td>2.000000</td>\n",
       "      <td>3.000000</td>\n",
       "      <td>1.000000</td>\n",
       "      <td>1.000000</td>\n",
       "      <td>2.000000</td>\n",
       "    </tr>\n",
       "    <tr>\n",
       "      <th>75%</th>\n",
       "      <td>1.238298e+06</td>\n",
       "      <td>6.000000</td>\n",
       "      <td>5.000000</td>\n",
       "      <td>5.000000</td>\n",
       "      <td>4.000000</td>\n",
       "      <td>4.000000</td>\n",
       "      <td>5.000000</td>\n",
       "      <td>4.000000</td>\n",
       "      <td>1.000000</td>\n",
       "      <td>4.000000</td>\n",
       "    </tr>\n",
       "    <tr>\n",
       "      <th>max</th>\n",
       "      <td>1.345435e+07</td>\n",
       "      <td>10.000000</td>\n",
       "      <td>10.000000</td>\n",
       "      <td>10.000000</td>\n",
       "      <td>10.000000</td>\n",
       "      <td>10.000000</td>\n",
       "      <td>10.000000</td>\n",
       "      <td>10.000000</td>\n",
       "      <td>10.000000</td>\n",
       "      <td>4.000000</td>\n",
       "    </tr>\n",
       "  </tbody>\n",
       "</table>\n",
       "</div>"
      ],
      "text/plain": [
       "       Sample code number  Clump Thickness  Uniformity of Cell Size  \\\n",
       "count        6.990000e+02       699.000000               699.000000   \n",
       "mean         1.071704e+06         4.417740                 3.134478   \n",
       "std          6.170957e+05         2.815741                 3.051459   \n",
       "min          6.163400e+04         1.000000                 1.000000   \n",
       "25%          8.706885e+05         2.000000                 1.000000   \n",
       "50%          1.171710e+06         4.000000                 1.000000   \n",
       "75%          1.238298e+06         6.000000                 5.000000   \n",
       "max          1.345435e+07        10.000000                10.000000   \n",
       "\n",
       "       Uniformity of Cell Shape  Marginal Adhesion  \\\n",
       "count                699.000000         699.000000   \n",
       "mean                   3.207439           2.806867   \n",
       "std                    2.971913           2.855379   \n",
       "min                    1.000000           1.000000   \n",
       "25%                    1.000000           1.000000   \n",
       "50%                    1.000000           1.000000   \n",
       "75%                    5.000000           4.000000   \n",
       "max                   10.000000          10.000000   \n",
       "\n",
       "       Single Epithelial Cell Size  Bland Chromatin  Normal Nucleoli  \\\n",
       "count                   699.000000       699.000000       699.000000   \n",
       "mean                      3.216023         3.437768         2.866953   \n",
       "std                       2.214300         2.438364         3.053634   \n",
       "min                       1.000000         1.000000         1.000000   \n",
       "25%                       2.000000         2.000000         1.000000   \n",
       "50%                       2.000000         3.000000         1.000000   \n",
       "75%                       4.000000         5.000000         4.000000   \n",
       "max                      10.000000        10.000000        10.000000   \n",
       "\n",
       "          Mitoses       Class  \n",
       "count  699.000000  699.000000  \n",
       "mean     1.589413    2.689557  \n",
       "std      1.715078    0.951273  \n",
       "min      1.000000    2.000000  \n",
       "25%      1.000000    2.000000  \n",
       "50%      1.000000    2.000000  \n",
       "75%      1.000000    4.000000  \n",
       "max     10.000000    4.000000  "
      ]
     },
     "execution_count": 1324,
     "metadata": {},
     "output_type": "execute_result"
    }
   ],
   "source": [
    "# Statistical information for the dataset\n",
    "df.describe()"
   ]
  },
  {
   "cell_type": "markdown",
   "id": "44a68131",
   "metadata": {},
   "source": [
    "## Data cleaning"
   ]
  },
  {
   "cell_type": "markdown",
   "id": "1d45d960",
   "metadata": {},
   "source": [
    "### Remove non existent values"
   ]
  },
  {
   "cell_type": "code",
   "execution_count": 1325,
   "id": "0f496c48",
   "metadata": {},
   "outputs": [
    {
     "data": {
      "text/plain": [
       "False"
      ]
     },
     "execution_count": 1325,
     "metadata": {},
     "output_type": "execute_result"
    }
   ],
   "source": [
    "df.isnull().values.any()"
   ]
  },
  {
   "cell_type": "markdown",
   "id": "4641103b",
   "metadata": {},
   "source": [
    "The ? value is not recognized as null value (df.isnull().values.any() returns false) so we have to change those with NaN"
   ]
  },
  {
   "cell_type": "code",
   "execution_count": 1326,
   "id": "461f9507",
   "metadata": {},
   "outputs": [],
   "source": [
    "df = df.replace('?',np.NaN)"
   ]
  },
  {
   "cell_type": "code",
   "execution_count": 1327,
   "id": "9a8d9bfd",
   "metadata": {},
   "outputs": [
    {
     "name": "stdout",
     "output_type": "stream",
     "text": [
      "<class 'pandas.core.frame.DataFrame'>\n",
      "RangeIndex: 699 entries, 0 to 698\n",
      "Data columns (total 11 columns):\n",
      " #   Column                       Non-Null Count  Dtype \n",
      "---  ------                       --------------  ----- \n",
      " 0   Sample code number           699 non-null    int64 \n",
      " 1   Clump Thickness              699 non-null    int64 \n",
      " 2   Uniformity of Cell Size      699 non-null    int64 \n",
      " 3   Uniformity of Cell Shape     699 non-null    int64 \n",
      " 4   Marginal Adhesion            699 non-null    int64 \n",
      " 5   Single Epithelial Cell Size  699 non-null    int64 \n",
      " 6   Bare Nuclei                  683 non-null    object\n",
      " 7   Bland Chromatin              699 non-null    int64 \n",
      " 8   Normal Nucleoli              699 non-null    int64 \n",
      " 9   Mitoses                      699 non-null    int64 \n",
      " 10  Class                        699 non-null    int64 \n",
      "dtypes: int64(10), object(1)\n",
      "memory usage: 60.2+ KB\n"
     ]
    }
   ],
   "source": [
    "# Now we can see the number of non-null values in Bare Nuclei column\n",
    "df.info()"
   ]
  },
  {
   "cell_type": "code",
   "execution_count": 1328,
   "id": "4be32ed9",
   "metadata": {},
   "outputs": [
    {
     "data": {
      "text/plain": [
       "True"
      ]
     },
     "execution_count": 1328,
     "metadata": {},
     "output_type": "execute_result"
    }
   ],
   "source": [
    "# Now the isnull function works\n",
    "df.isnull().values.any()"
   ]
  },
  {
   "cell_type": "code",
   "execution_count": 1329,
   "id": "1b830536",
   "metadata": {},
   "outputs": [],
   "source": [
    "df = df.dropna()"
   ]
  },
  {
   "cell_type": "code",
   "execution_count": 1330,
   "id": "3b26cf93",
   "metadata": {},
   "outputs": [
    {
     "data": {
      "text/plain": [
       "(683, 11)"
      ]
     },
     "execution_count": 1330,
     "metadata": {},
     "output_type": "execute_result"
    }
   ],
   "source": [
    "df.shape"
   ]
  },
  {
   "cell_type": "code",
   "execution_count": 1331,
   "id": "31808588",
   "metadata": {},
   "outputs": [
    {
     "name": "stdout",
     "output_type": "stream",
     "text": [
      "<class 'pandas.core.frame.DataFrame'>\n",
      "Int64Index: 683 entries, 0 to 698\n",
      "Data columns (total 11 columns):\n",
      " #   Column                       Non-Null Count  Dtype \n",
      "---  ------                       --------------  ----- \n",
      " 0   Sample code number           683 non-null    int64 \n",
      " 1   Clump Thickness              683 non-null    int64 \n",
      " 2   Uniformity of Cell Size      683 non-null    int64 \n",
      " 3   Uniformity of Cell Shape     683 non-null    int64 \n",
      " 4   Marginal Adhesion            683 non-null    int64 \n",
      " 5   Single Epithelial Cell Size  683 non-null    int64 \n",
      " 6   Bare Nuclei                  683 non-null    object\n",
      " 7   Bland Chromatin              683 non-null    int64 \n",
      " 8   Normal Nucleoli              683 non-null    int64 \n",
      " 9   Mitoses                      683 non-null    int64 \n",
      " 10  Class                        683 non-null    int64 \n",
      "dtypes: int64(10), object(1)\n",
      "memory usage: 64.0+ KB\n"
     ]
    }
   ],
   "source": [
    "df.info() "
   ]
  },
  {
   "cell_type": "markdown",
   "id": "319ba987",
   "metadata": {},
   "source": [
    "### Remove unnecessary columns and duplicates"
   ]
  },
  {
   "cell_type": "code",
   "execution_count": 1332,
   "id": "1cfd6865",
   "metadata": {},
   "outputs": [],
   "source": [
    "# we remove the sample code number column since it's not needed\n",
    "\n",
    "del df['Sample code number']"
   ]
  },
  {
   "cell_type": "code",
   "execution_count": 1333,
   "id": "bab52b9d",
   "metadata": {},
   "outputs": [
    {
     "data": {
      "text/plain": [
       "(683, 10)"
      ]
     },
     "execution_count": 1333,
     "metadata": {},
     "output_type": "execute_result"
    }
   ],
   "source": [
    "df.shape"
   ]
  },
  {
   "cell_type": "code",
   "execution_count": 1334,
   "id": "bfc6a4fb",
   "metadata": {},
   "outputs": [
    {
     "name": "stdout",
     "output_type": "stream",
     "text": [
      "<class 'pandas.core.frame.DataFrame'>\n",
      "Int64Index: 683 entries, 0 to 698\n",
      "Data columns (total 10 columns):\n",
      " #   Column                       Non-Null Count  Dtype \n",
      "---  ------                       --------------  ----- \n",
      " 0   Clump Thickness              683 non-null    int64 \n",
      " 1   Uniformity of Cell Size      683 non-null    int64 \n",
      " 2   Uniformity of Cell Shape     683 non-null    int64 \n",
      " 3   Marginal Adhesion            683 non-null    int64 \n",
      " 4   Single Epithelial Cell Size  683 non-null    int64 \n",
      " 5   Bare Nuclei                  683 non-null    object\n",
      " 6   Bland Chromatin              683 non-null    int64 \n",
      " 7   Normal Nucleoli              683 non-null    int64 \n",
      " 8   Mitoses                      683 non-null    int64 \n",
      " 9   Class                        683 non-null    int64 \n",
      "dtypes: int64(9), object(1)\n",
      "memory usage: 58.7+ KB\n"
     ]
    }
   ],
   "source": [
    "df.info()"
   ]
  },
  {
   "cell_type": "code",
   "execution_count": 1335,
   "id": "90fd588e",
   "metadata": {},
   "outputs": [],
   "source": [
    "df = df.drop_duplicates()"
   ]
  },
  {
   "cell_type": "code",
   "execution_count": 1336,
   "id": "ec5e22ee",
   "metadata": {},
   "outputs": [
    {
     "data": {
      "text/plain": [
       "(449, 10)"
      ]
     },
     "execution_count": 1336,
     "metadata": {},
     "output_type": "execute_result"
    }
   ],
   "source": [
    "df.shape"
   ]
  },
  {
   "cell_type": "code",
   "execution_count": 1337,
   "id": "6235c5ce",
   "metadata": {},
   "outputs": [
    {
     "name": "stdout",
     "output_type": "stream",
     "text": [
      "<class 'pandas.core.frame.DataFrame'>\n",
      "Int64Index: 449 entries, 0 to 698\n",
      "Data columns (total 10 columns):\n",
      " #   Column                       Non-Null Count  Dtype \n",
      "---  ------                       --------------  ----- \n",
      " 0   Clump Thickness              449 non-null    int64 \n",
      " 1   Uniformity of Cell Size      449 non-null    int64 \n",
      " 2   Uniformity of Cell Shape     449 non-null    int64 \n",
      " 3   Marginal Adhesion            449 non-null    int64 \n",
      " 4   Single Epithelial Cell Size  449 non-null    int64 \n",
      " 5   Bare Nuclei                  449 non-null    object\n",
      " 6   Bland Chromatin              449 non-null    int64 \n",
      " 7   Normal Nucleoli              449 non-null    int64 \n",
      " 8   Mitoses                      449 non-null    int64 \n",
      " 9   Class                        449 non-null    int64 \n",
      "dtypes: int64(9), object(1)\n",
      "memory usage: 38.6+ KB\n"
     ]
    }
   ],
   "source": [
    "df.info()"
   ]
  },
  {
   "cell_type": "markdown",
   "id": "a5efe387",
   "metadata": {},
   "source": [
    "### Function plots a graph correlation matrix for each pair of colums in the dataframe"
   ]
  },
  {
   "cell_type": "code",
   "execution_count": 1338,
   "id": "e94afa31",
   "metadata": {},
   "outputs": [],
   "source": [
    "def plot_corr(df, size=11):\n",
    "    corr = df.corr()\n",
    "    fig, ax = plt.subplots(figsize=(size,size))\n",
    "    ax.matshow(corr)\n",
    "    plt.xticks(range(len(corr.columns)), corr.columns)\n",
    "    plt.yticks(range(len(corr.columns)), corr.columns)"
   ]
  },
  {
   "cell_type": "code",
   "execution_count": 1339,
   "id": "d87b5bb6",
   "metadata": {},
   "outputs": [
    {
     "data": {
      "image/png": "[encoded data removed]",
      "text/plain": [
       "<Figure size 792x792 with 1 Axes>"
      ]
     },
     "metadata": {
      "needs_background": "light"
     },
     "output_type": "display_data"
    }
   ],
   "source": [
    "plot_corr(df)"
   ]
  },
  {
   "cell_type": "code",
   "execution_count": 1340,
   "id": "3097318f",
   "metadata": {},
   "outputs": [
    {
     "data": {
      "text/html": [
       "<div>\n",
       "<style scoped>\n",
       "    .dataframe tbody tr th:only-of-type {\n",
       "        vertical-align: middle;\n",
       "    }\n",
       "\n",
       "    .dataframe tbody tr th {\n",
       "        vertical-align: top;\n",
       "    }\n",
       "\n",
       "    .dataframe thead th {\n",
       "        text-align: right;\n",
       "    }\n",
       "</style>\n",
       "<table border=\"1\" class=\"dataframe\">\n",
       "  <thead>\n",
       "    <tr style=\"text-align: right;\">\n",
       "      <th></th>\n",
       "      <th>Clump Thickness</th>\n",
       "      <th>Uniformity of Cell Size</th>\n",
       "      <th>Uniformity of Cell Shape</th>\n",
       "      <th>Marginal Adhesion</th>\n",
       "      <th>Single Epithelial Cell Size</th>\n",
       "      <th>Bland Chromatin</th>\n",
       "      <th>Normal Nucleoli</th>\n",
       "      <th>Mitoses</th>\n",
       "      <th>Class</th>\n",
       "    </tr>\n",
       "  </thead>\n",
       "  <tbody>\n",
       "    <tr>\n",
       "      <th>Clump Thickness</th>\n",
       "      <td>1.000000</td>\n",
       "      <td>0.570750</td>\n",
       "      <td>0.584082</td>\n",
       "      <td>0.379143</td>\n",
       "      <td>0.429917</td>\n",
       "      <td>0.485863</td>\n",
       "      <td>0.444267</td>\n",
       "      <td>0.294359</td>\n",
       "      <td>0.670230</td>\n",
       "    </tr>\n",
       "    <tr>\n",
       "      <th>Uniformity of Cell Size</th>\n",
       "      <td>0.570750</td>\n",
       "      <td>1.000000</td>\n",
       "      <td>0.876916</td>\n",
       "      <td>0.638499</td>\n",
       "      <td>0.689472</td>\n",
       "      <td>0.710705</td>\n",
       "      <td>0.650262</td>\n",
       "      <td>0.403411</td>\n",
       "      <td>0.758697</td>\n",
       "    </tr>\n",
       "    <tr>\n",
       "      <th>Uniformity of Cell Shape</th>\n",
       "      <td>0.584082</td>\n",
       "      <td>0.876916</td>\n",
       "      <td>1.000000</td>\n",
       "      <td>0.612859</td>\n",
       "      <td>0.650156</td>\n",
       "      <td>0.684466</td>\n",
       "      <td>0.650739</td>\n",
       "      <td>0.381447</td>\n",
       "      <td>0.759500</td>\n",
       "    </tr>\n",
       "    <tr>\n",
       "      <th>Marginal Adhesion</th>\n",
       "      <td>0.379143</td>\n",
       "      <td>0.638499</td>\n",
       "      <td>0.612859</td>\n",
       "      <td>1.000000</td>\n",
       "      <td>0.517930</td>\n",
       "      <td>0.610571</td>\n",
       "      <td>0.510035</td>\n",
       "      <td>0.356659</td>\n",
       "      <td>0.630415</td>\n",
       "    </tr>\n",
       "    <tr>\n",
       "      <th>Single Epithelial Cell Size</th>\n",
       "      <td>0.429917</td>\n",
       "      <td>0.689472</td>\n",
       "      <td>0.650156</td>\n",
       "      <td>0.517930</td>\n",
       "      <td>1.000000</td>\n",
       "      <td>0.554047</td>\n",
       "      <td>0.555774</td>\n",
       "      <td>0.434059</td>\n",
       "      <td>0.611432</td>\n",
       "    </tr>\n",
       "    <tr>\n",
       "      <th>Bland Chromatin</th>\n",
       "      <td>0.485863</td>\n",
       "      <td>0.710705</td>\n",
       "      <td>0.684466</td>\n",
       "      <td>0.610571</td>\n",
       "      <td>0.554047</td>\n",
       "      <td>1.000000</td>\n",
       "      <td>0.604527</td>\n",
       "      <td>0.278639</td>\n",
       "      <td>0.706738</td>\n",
       "    </tr>\n",
       "    <tr>\n",
       "      <th>Normal Nucleoli</th>\n",
       "      <td>0.444267</td>\n",
       "      <td>0.650262</td>\n",
       "      <td>0.650739</td>\n",
       "      <td>0.510035</td>\n",
       "      <td>0.555774</td>\n",
       "      <td>0.604527</td>\n",
       "      <td>1.000000</td>\n",
       "      <td>0.373095</td>\n",
       "      <td>0.645257</td>\n",
       "    </tr>\n",
       "    <tr>\n",
       "      <th>Mitoses</th>\n",
       "      <td>0.294359</td>\n",
       "      <td>0.403411</td>\n",
       "      <td>0.381447</td>\n",
       "      <td>0.356659</td>\n",
       "      <td>0.434059</td>\n",
       "      <td>0.278639</td>\n",
       "      <td>0.373095</td>\n",
       "      <td>1.000000</td>\n",
       "      <td>0.357184</td>\n",
       "    </tr>\n",
       "    <tr>\n",
       "      <th>Class</th>\n",
       "      <td>0.670230</td>\n",
       "      <td>0.758697</td>\n",
       "      <td>0.759500</td>\n",
       "      <td>0.630415</td>\n",
       "      <td>0.611432</td>\n",
       "      <td>0.706738</td>\n",
       "      <td>0.645257</td>\n",
       "      <td>0.357184</td>\n",
       "      <td>1.000000</td>\n",
       "    </tr>\n",
       "  </tbody>\n",
       "</table>\n",
       "</div>"
      ],
      "text/plain": [
       "                             Clump Thickness  Uniformity of Cell Size  \\\n",
       "Clump Thickness                     1.000000                 0.570750   \n",
       "Uniformity of Cell Size             0.570750                 1.000000   \n",
       "Uniformity of Cell Shape            0.584082                 0.876916   \n",
       "Marginal Adhesion                   0.379143                 0.638499   \n",
       "Single Epithelial Cell Size         0.429917                 0.689472   \n",
       "Bland Chromatin                     0.485863                 0.710705   \n",
       "Normal Nucleoli                     0.444267                 0.650262   \n",
       "Mitoses                             0.294359                 0.403411   \n",
       "Class                               0.670230                 0.758697   \n",
       "\n",
       "                             Uniformity of Cell Shape  Marginal Adhesion  \\\n",
       "Clump Thickness                              0.584082           0.379143   \n",
       "Uniformity of Cell Size                      0.876916           0.638499   \n",
       "Uniformity of Cell Shape                     1.000000           0.612859   \n",
       "Marginal Adhesion                            0.612859           1.000000   \n",
       "Single Epithelial Cell Size                  0.650156           0.517930   \n",
       "Bland Chromatin                              0.684466           0.610571   \n",
       "Normal Nucleoli                              0.650739           0.510035   \n",
       "Mitoses                                      0.381447           0.356659   \n",
       "Class                                        0.759500           0.630415   \n",
       "\n",
       "                             Single Epithelial Cell Size  Bland Chromatin  \\\n",
       "Clump Thickness                                 0.429917         0.485863   \n",
       "Uniformity of Cell Size                         0.689472         0.710705   \n",
       "Uniformity of Cell Shape                        0.650156         0.684466   \n",
       "Marginal Adhesion                               0.517930         0.610571   \n",
       "Single Epithelial Cell Size                     1.000000         0.554047   \n",
       "Bland Chromatin                                 0.554047         1.000000   \n",
       "Normal Nucleoli                                 0.555774         0.604527   \n",
       "Mitoses                                         0.434059         0.278639   \n",
       "Class                                           0.611432         0.706738   \n",
       "\n",
       "                             Normal Nucleoli   Mitoses     Class  \n",
       "Clump Thickness                     0.444267  0.294359  0.670230  \n",
       "Uniformity of Cell Size             0.650262  0.403411  0.758697  \n",
       "Uniformity of Cell Shape            0.650739  0.381447  0.759500  \n",
       "Marginal Adhesion                   0.510035  0.356659  0.630415  \n",
       "Single Epithelial Cell Size         0.555774  0.434059  0.611432  \n",
       "Bland Chromatin                     0.604527  0.278639  0.706738  \n",
       "Normal Nucleoli                     1.000000  0.373095  0.645257  \n",
       "Mitoses                             0.373095  1.000000  0.357184  \n",
       "Class                               0.645257  0.357184  1.000000  "
      ]
     },
     "execution_count": 1340,
     "metadata": {},
     "output_type": "execute_result"
    }
   ],
   "source": [
    "df.corr()"
   ]
  },
  {
   "cell_type": "markdown",
   "id": "be2baaea",
   "metadata": {},
   "source": [
    "## Data Transformation"
   ]
  },
  {
   "cell_type": "markdown",
   "id": "482e71b0",
   "metadata": {},
   "source": [
    "### Change data type of Bare Nuclei"
   ]
  },
  {
   "cell_type": "code",
   "execution_count": 1341,
   "id": "5aabc75d",
   "metadata": {},
   "outputs": [
    {
     "name": "stdout",
     "output_type": "stream",
     "text": [
      "<class 'pandas.core.frame.DataFrame'>\n",
      "Int64Index: 449 entries, 0 to 698\n",
      "Data columns (total 10 columns):\n",
      " #   Column                       Non-Null Count  Dtype \n",
      "---  ------                       --------------  ----- \n",
      " 0   Clump Thickness              449 non-null    int64 \n",
      " 1   Uniformity of Cell Size      449 non-null    int64 \n",
      " 2   Uniformity of Cell Shape     449 non-null    int64 \n",
      " 3   Marginal Adhesion            449 non-null    int64 \n",
      " 4   Single Epithelial Cell Size  449 non-null    int64 \n",
      " 5   Bare Nuclei                  449 non-null    object\n",
      " 6   Bland Chromatin              449 non-null    int64 \n",
      " 7   Normal Nucleoli              449 non-null    int64 \n",
      " 8   Mitoses                      449 non-null    int64 \n",
      " 9   Class                        449 non-null    int64 \n",
      "dtypes: int64(9), object(1)\n",
      "memory usage: 38.6+ KB\n"
     ]
    }
   ],
   "source": [
    "### Change data type of Bare Nuclei feature to int64\n",
    "df.info() "
   ]
  },
  {
   "cell_type": "code",
   "execution_count": 1342,
   "id": "8678ab0b",
   "metadata": {},
   "outputs": [],
   "source": [
    "# This fails because of a known bug: TypeError: object cannot be converted to an IntegerDtype\n",
    "#df['Bare Nuclei'] = df['Bare Nuclei'].astype('int64')\n",
    "# first convert to float before int\n",
    "df['Bare Nuclei'] = df['Bare Nuclei'].astype('float')  \n",
    "df['Bare Nuclei'] = df['Bare Nuclei'].astype('int64')"
   ]
  },
  {
   "cell_type": "code",
   "execution_count": 1343,
   "id": "f0e68507",
   "metadata": {},
   "outputs": [
    {
     "name": "stdout",
     "output_type": "stream",
     "text": [
      "<class 'pandas.core.frame.DataFrame'>\n",
      "Int64Index: 449 entries, 0 to 698\n",
      "Data columns (total 10 columns):\n",
      " #   Column                       Non-Null Count  Dtype\n",
      "---  ------                       --------------  -----\n",
      " 0   Clump Thickness              449 non-null    int64\n",
      " 1   Uniformity of Cell Size      449 non-null    int64\n",
      " 2   Uniformity of Cell Shape     449 non-null    int64\n",
      " 3   Marginal Adhesion            449 non-null    int64\n",
      " 4   Single Epithelial Cell Size  449 non-null    int64\n",
      " 5   Bare Nuclei                  449 non-null    int64\n",
      " 6   Bland Chromatin              449 non-null    int64\n",
      " 7   Normal Nucleoli              449 non-null    int64\n",
      " 8   Mitoses                      449 non-null    int64\n",
      " 9   Class                        449 non-null    int64\n",
      "dtypes: int64(10)\n",
      "memory usage: 38.6 KB\n"
     ]
    }
   ],
   "source": [
    "df.info() "
   ]
  },
  {
   "cell_type": "markdown",
   "id": "759a4d3f",
   "metadata": {},
   "source": [
    "### Convert dependant variable into boolean (2 for benign, 4 for malignant) to 0 - bening, 1-malignant"
   ]
  },
  {
   "cell_type": "code",
   "execution_count": 1344,
   "id": "58b61f46",
   "metadata": {},
   "outputs": [],
   "source": [
    "cancer_map = {2: 0, 4: 1}"
   ]
  },
  {
   "cell_type": "code",
   "execution_count": 1345,
   "id": "80cb998a",
   "metadata": {},
   "outputs": [],
   "source": [
    "df['Class'] = df['Class'].map(cancer_map)"
   ]
  },
  {
   "cell_type": "code",
   "execution_count": 1346,
   "id": "392418a9",
   "metadata": {},
   "outputs": [
    {
     "data": {
      "text/html": [
       "<div>\n",
       "<style scoped>\n",
       "    .dataframe tbody tr th:only-of-type {\n",
       "        vertical-align: middle;\n",
       "    }\n",
       "\n",
       "    .dataframe tbody tr th {\n",
       "        vertical-align: top;\n",
       "    }\n",
       "\n",
       "    .dataframe thead th {\n",
       "        text-align: right;\n",
       "    }\n",
       "</style>\n",
       "<table border=\"1\" class=\"dataframe\">\n",
       "  <thead>\n",
       "    <tr style=\"text-align: right;\">\n",
       "      <th></th>\n",
       "      <th>Clump Thickness</th>\n",
       "      <th>Uniformity of Cell Size</th>\n",
       "      <th>Uniformity of Cell Shape</th>\n",
       "      <th>Marginal Adhesion</th>\n",
       "      <th>Single Epithelial Cell Size</th>\n",
       "      <th>Bare Nuclei</th>\n",
       "      <th>Bland Chromatin</th>\n",
       "      <th>Normal Nucleoli</th>\n",
       "      <th>Mitoses</th>\n",
       "      <th>Class</th>\n",
       "    </tr>\n",
       "  </thead>\n",
       "  <tbody>\n",
       "    <tr>\n",
       "      <th>0</th>\n",
       "      <td>5</td>\n",
       "      <td>1</td>\n",
       "      <td>1</td>\n",
       "      <td>1</td>\n",
       "      <td>2</td>\n",
       "      <td>1</td>\n",
       "      <td>3</td>\n",
       "      <td>1</td>\n",
       "      <td>1</td>\n",
       "      <td>0</td>\n",
       "    </tr>\n",
       "    <tr>\n",
       "      <th>1</th>\n",
       "      <td>5</td>\n",
       "      <td>4</td>\n",
       "      <td>4</td>\n",
       "      <td>5</td>\n",
       "      <td>7</td>\n",
       "      <td>10</td>\n",
       "      <td>3</td>\n",
       "      <td>2</td>\n",
       "      <td>1</td>\n",
       "      <td>0</td>\n",
       "    </tr>\n",
       "    <tr>\n",
       "      <th>2</th>\n",
       "      <td>3</td>\n",
       "      <td>1</td>\n",
       "      <td>1</td>\n",
       "      <td>1</td>\n",
       "      <td>2</td>\n",
       "      <td>2</td>\n",
       "      <td>3</td>\n",
       "      <td>1</td>\n",
       "      <td>1</td>\n",
       "      <td>0</td>\n",
       "    </tr>\n",
       "    <tr>\n",
       "      <th>3</th>\n",
       "      <td>6</td>\n",
       "      <td>8</td>\n",
       "      <td>8</td>\n",
       "      <td>1</td>\n",
       "      <td>3</td>\n",
       "      <td>4</td>\n",
       "      <td>3</td>\n",
       "      <td>7</td>\n",
       "      <td>1</td>\n",
       "      <td>0</td>\n",
       "    </tr>\n",
       "    <tr>\n",
       "      <th>4</th>\n",
       "      <td>4</td>\n",
       "      <td>1</td>\n",
       "      <td>1</td>\n",
       "      <td>3</td>\n",
       "      <td>2</td>\n",
       "      <td>1</td>\n",
       "      <td>3</td>\n",
       "      <td>1</td>\n",
       "      <td>1</td>\n",
       "      <td>0</td>\n",
       "    </tr>\n",
       "    <tr>\n",
       "      <th>5</th>\n",
       "      <td>8</td>\n",
       "      <td>10</td>\n",
       "      <td>10</td>\n",
       "      <td>8</td>\n",
       "      <td>7</td>\n",
       "      <td>10</td>\n",
       "      <td>9</td>\n",
       "      <td>7</td>\n",
       "      <td>1</td>\n",
       "      <td>1</td>\n",
       "    </tr>\n",
       "    <tr>\n",
       "      <th>6</th>\n",
       "      <td>1</td>\n",
       "      <td>1</td>\n",
       "      <td>1</td>\n",
       "      <td>1</td>\n",
       "      <td>2</td>\n",
       "      <td>10</td>\n",
       "      <td>3</td>\n",
       "      <td>1</td>\n",
       "      <td>1</td>\n",
       "      <td>0</td>\n",
       "    </tr>\n",
       "    <tr>\n",
       "      <th>7</th>\n",
       "      <td>2</td>\n",
       "      <td>1</td>\n",
       "      <td>2</td>\n",
       "      <td>1</td>\n",
       "      <td>2</td>\n",
       "      <td>1</td>\n",
       "      <td>3</td>\n",
       "      <td>1</td>\n",
       "      <td>1</td>\n",
       "      <td>0</td>\n",
       "    </tr>\n",
       "    <tr>\n",
       "      <th>8</th>\n",
       "      <td>2</td>\n",
       "      <td>1</td>\n",
       "      <td>1</td>\n",
       "      <td>1</td>\n",
       "      <td>2</td>\n",
       "      <td>1</td>\n",
       "      <td>1</td>\n",
       "      <td>1</td>\n",
       "      <td>5</td>\n",
       "      <td>0</td>\n",
       "    </tr>\n",
       "    <tr>\n",
       "      <th>9</th>\n",
       "      <td>4</td>\n",
       "      <td>2</td>\n",
       "      <td>1</td>\n",
       "      <td>1</td>\n",
       "      <td>2</td>\n",
       "      <td>1</td>\n",
       "      <td>2</td>\n",
       "      <td>1</td>\n",
       "      <td>1</td>\n",
       "      <td>0</td>\n",
       "    </tr>\n",
       "  </tbody>\n",
       "</table>\n",
       "</div>"
      ],
      "text/plain": [
       "   Clump Thickness  Uniformity of Cell Size  Uniformity of Cell Shape  \\\n",
       "0                5                        1                         1   \n",
       "1                5                        4                         4   \n",
       "2                3                        1                         1   \n",
       "3                6                        8                         8   \n",
       "4                4                        1                         1   \n",
       "5                8                       10                        10   \n",
       "6                1                        1                         1   \n",
       "7                2                        1                         2   \n",
       "8                2                        1                         1   \n",
       "9                4                        2                         1   \n",
       "\n",
       "   Marginal Adhesion  Single Epithelial Cell Size  Bare Nuclei  \\\n",
       "0                  1                            2            1   \n",
       "1                  5                            7           10   \n",
       "2                  1                            2            2   \n",
       "3                  1                            3            4   \n",
       "4                  3                            2            1   \n",
       "5                  8                            7           10   \n",
       "6                  1                            2           10   \n",
       "7                  1                            2            1   \n",
       "8                  1                            2            1   \n",
       "9                  1                            2            1   \n",
       "\n",
       "   Bland Chromatin  Normal Nucleoli  Mitoses  Class  \n",
       "0                3                1        1      0  \n",
       "1                3                2        1      0  \n",
       "2                3                1        1      0  \n",
       "3                3                7        1      0  \n",
       "4                3                1        1      0  \n",
       "5                9                7        1      1  \n",
       "6                3                1        1      0  \n",
       "7                3                1        1      0  \n",
       "8                1                1        5      0  \n",
       "9                2                1        1      0  "
      ]
     },
     "execution_count": 1346,
     "metadata": {},
     "output_type": "execute_result"
    }
   ],
   "source": [
    "df.head(10)"
   ]
  },
  {
   "cell_type": "markdown",
   "id": "b401d0f8",
   "metadata": {},
   "source": [
    "### Check bening/malignant ratio"
   ]
  },
  {
   "cell_type": "code",
   "execution_count": 1347,
   "id": "48a79bd7",
   "metadata": {},
   "outputs": [
    {
     "name": "stdout",
     "output_type": "stream",
     "text": [
      "Number of bening cases 213 (47.44 %)\n",
      "Number of malingnant cases 236 (52.56%)\n"
     ]
    }
   ],
   "source": [
    "num_bening = len(df.loc[df['Class'] == False])\n",
    "num_malingnant = len(df.loc[df['Class'] == True])\n",
    "print(\"Number of bening cases {0} ({1:2.2f} %)\".format(num_bening, (num_bening/(num_bening+num_malingnant))*100))\n",
    "print(\"Number of malingnant cases {0} ({1:2.2f}%)\".format(num_malingnant, (num_malingnant/(num_bening+num_malingnant))*100))"
   ]
  },
  {
   "cell_type": "markdown",
   "id": "4b1a9660",
   "metadata": {},
   "source": [
    "# Visualize data"
   ]
  },
  {
   "cell_type": "code",
   "execution_count": 1348,
   "id": "46ec2917",
   "metadata": {
    "scrolled": false
   },
   "outputs": [
    {
     "data": {
      "image/png": "[encoded data removed]",
      "text/plain": [
       "<Figure size 432x4176 with 10 Axes>"
      ]
     },
     "metadata": {
      "needs_background": "light"
     },
     "output_type": "display_data"
    }
   ],
   "source": [
    "# Generate histograms for all features\n",
    "\n",
    "fig, axs = plt.subplots(len(df.columns), figsize=(6,58))\n",
    "for n, col in enumerate(df.columns):\n",
    "    axes = df.groupby(\"Class\")[col].hist(ax=axs[n], alpha=0.6,range=[df[col].min(),df[col].max()], legend=True)\n",
    "    for i, ax in enumerate(axes.ravel(), start=1):\n",
    "        if i <= 11:\n",
    "            ax.set_title(f'{col}')\n",
    "            ax.legend(title='Class')\n",
    "plt.show()\n"
   ]
  },
  {
   "cell_type": "code",
   "execution_count": 1349,
   "id": "b7350108",
   "metadata": {},
   "outputs": [
    {
     "data": {
      "image/png": "[encoded data removed]",
      "text/plain": [
       "<Figure size 432x288 with 1 Axes>"
      ]
     },
     "metadata": {
      "needs_background": "light"
     },
     "output_type": "display_data"
    },
    {
     "data": {
      "image/png": "[encoded data removed]",
      "text/plain": [
       "<Figure size 432x288 with 1 Axes>"
      ]
     },
     "metadata": {
      "needs_background": "light"
     },
     "output_type": "display_data"
    },
    {
     "data": {
      "image/png": "[encoded data removed]",
      "text/plain": [
       "<Figure size 432x288 with 1 Axes>"
      ]
     },
     "metadata": {
      "needs_background": "light"
     },
     "output_type": "display_data"
    },
    {
     "data": {
      "image/png": "[encoded data removed]",
      "text/plain": [
       "<Figure size 432x288 with 1 Axes>"
      ]
     },
     "metadata": {
      "needs_background": "light"
     },
     "output_type": "display_data"
    },
    {
     "data": {
      "image/png": "[encoded data removed]",
      "text/plain": [
       "<Figure size 432x288 with 1 Axes>"
      ]
     },
     "metadata": {
      "needs_background": "light"
     },
     "output_type": "display_data"
    },
    {
     "data": {
      "image/png": "[encoded data removed]",
      "text/plain": [
       "<Figure size 432x288 with 1 Axes>"
      ]
     },
     "metadata": {
      "needs_background": "light"
     },
     "output_type": "display_data"
    },
    {
     "data": {
      "image/png": "[encoded data removed]",
      "text/plain": [
       "<Figure size 432x288 with 1 Axes>"
      ]
     },
     "metadata": {
      "needs_background": "light"
     },
     "output_type": "display_data"
    },
    {
     "data": {
      "image/png": "[encoded data removed]",
      "text/plain": [
       "<Figure size 432x288 with 1 Axes>"
      ]
     },
     "metadata": {
      "needs_background": "light"
     },
     "output_type": "display_data"
    },
    {
     "data": {
      "image/png": "[encoded data removed]",
      "text/plain": [
       "<Figure size 432x288 with 1 Axes>"
      ]
     },
     "metadata": {
      "needs_background": "light"
     },
     "output_type": "display_data"
    },
    {
     "data": {
      "image/png": "[encoded data removed]",
      "text/plain": [
       "<Figure size 432x288 with 1 Axes>"
      ]
     },
     "metadata": {
      "needs_background": "light"
     },
     "output_type": "display_data"
    }
   ],
   "source": [
    "# Generate a whiskers boxplot for one of the attributes (Uniformity of Cell Size)\n",
    "for n, col in enumerate(df.columns):\n",
    "    df[col].plot(kind='box')\n",
    "    plt.show()"
   ]
  },
  {
   "cell_type": "markdown",
   "id": "f3a7713c",
   "metadata": {},
   "source": [
    "## Applying datamining techniques"
   ]
  },
  {
   "cell_type": "markdown",
   "id": "7a29cdd9",
   "metadata": {},
   "source": [
    "### Splitting the data"
   ]
  },
  {
   "cell_type": "code",
   "execution_count": 1350,
   "id": "52e4ee53",
   "metadata": {},
   "outputs": [],
   "source": [
    "featureColNames = ['Clump Thickness', 'Uniformity of Cell Size', \n",
    "                   'Uniformity of Cell Shape', 'Marginal Adhesion', \n",
    "                   'Single Epithelial Cell Size', 'Bare Nuclei', \n",
    "                   'Bland Chromatin', 'Normal Nucleoli', 'Mitoses']\n",
    "predictedClassName = ['Class']\n",
    "\n",
    "X = df[featureColNames].values\n",
    "Y = df[predictedClassName].values\n",
    "\n",
    "X_train, X_test, Y_train, Y_test = train_test_split(X, Y, test_size=0.30, random_state=42)\n"
   ]
  },
  {
   "cell_type": "code",
   "execution_count": 1356,
   "id": "c41f95ad",
   "metadata": {
    "scrolled": true
   },
   "outputs": [
    {
     "name": "stdout",
     "output_type": "stream",
     "text": [
      "==== TOTAL DATA ====\n",
      "Percentage of training 314 (69.93 %)\n",
      "Percentage of testing 135 (30.07 %)\n",
      "==== PERCENTAGE OF BENIGN AND MALIGNANT CASES IN THE ENTIRE DATASET ====\n",
      "Number of bening cases 213 (47.44 %)\n",
      "Number of malingnant cases 236 (52.56%)\n",
      "==== PERCENTAGE OF BENIGN AND MALIGNANT CASES IN THE TRAINING SECTION OF THE DATASET ====\n",
      "Number of bening cases 145 (46.18 %)\n",
      "Number of malingnant cases 169 (53.82 %)\n",
      "==== PERCENTAGE OF BENIGN AND MALIGNANT CASES IN THE TESTING SECTION OF THE DATASET ====\n",
      "Number of bening cases 68 (50.37 %)\n",
      "Number of malingnant cases 67 (49.63 %)\n"
     ]
    }
   ],
   "source": [
    "# Ensure we have the right percentage, not only of values, but also, the right percentage of bening and malignant values\n",
    "\n",
    "print(\"==== TOTAL DATA ====\")\n",
    "print(\"Percentage of training {0} ({1:0.2f} %)\".format(len(X_train), (len(X_train)/len(df.index))*100))\n",
    "print(\"Percentage of testing {0} ({1:0.2f} %)\".format(len(X_test), (len(X_test)/len(df.index))*100))\n",
    "print(\"==== PERCENTAGE OF BENIGN AND MALIGNANT CASES IN THE ENTIRE DATASET ====\")\n",
    "print(\"Number of bening cases {0} ({1:2.2f} %)\".format(num_bening, (num_bening/(num_bening+num_malingnant))*100))\n",
    "print(\"Number of malingnant cases {0} ({1:2.2f}%)\".format(num_malingnant, (num_malingnant/(num_bening+num_malingnant))*100))\n",
    "print(\"==== PERCENTAGE OF BENIGN AND MALIGNANT CASES IN THE TRAINING SECTION OF THE DATASET ====\")\n",
    "print(\"Number of bening cases {0} ({1:2.2f} %)\".format(len(Y_train[Y_train[:] == 0]), (len(Y_train[Y_train[:] == 0])/len(Y_train)*100)))\n",
    "print(\"Number of malingnant cases {0} ({1:2.2f} %)\".format(len(Y_train[Y_train[:] == 1]), (len(Y_train[Y_train[:] == 1])/len(Y_train)*100)))\n",
    "print(\"==== PERCENTAGE OF BENIGN AND MALIGNANT CASES IN THE TESTING SECTION OF THE DATASET ====\")\n",
    "print(\"Number of bening cases {0} ({1:2.2f} %)\".format(len(Y_test[Y_test[:] == 0]), (len(Y_test[Y_test[:] == 0])/len(Y_test)*100)))\n",
    "print(\"Number of malingnant cases {0} ({1:2.2f} %)\".format(len(Y_test[Y_test[:] == 1]), (len(Y_test[Y_test[:] == 1])/len(Y_test)*100)))\n",
    "\n",
    "\n"
   ]
  },
  {
   "cell_type": "code",
   "execution_count": 1358,
   "id": "449e3794",
   "metadata": {},
   "outputs": [
    {
     "name": "stdout",
     "output_type": "stream",
     "text": [
      "<class 'pandas.core.frame.DataFrame'>\n",
      "Int64Index: 449 entries, 0 to 698\n",
      "Data columns (total 10 columns):\n",
      " #   Column                       Non-Null Count  Dtype\n",
      "---  ------                       --------------  -----\n",
      " 0   Clump Thickness              449 non-null    int64\n",
      " 1   Uniformity of Cell Size      449 non-null    int64\n",
      " 2   Uniformity of Cell Shape     449 non-null    int64\n",
      " 3   Marginal Adhesion            449 non-null    int64\n",
      " 4   Single Epithelial Cell Size  449 non-null    int64\n",
      " 5   Bare Nuclei                  449 non-null    int64\n",
      " 6   Bland Chromatin              449 non-null    int64\n",
      " 7   Normal Nucleoli              449 non-null    int64\n",
      " 8   Mitoses                      449 non-null    int64\n",
      " 9   Class                        449 non-null    int64\n",
      "dtypes: int64(10)\n",
      "memory usage: 38.6 KB\n"
     ]
    }
   ],
   "source": [
    "df.info()"
   ]
  },
  {
   "cell_type": "markdown",
   "id": "66edc34c",
   "metadata": {},
   "source": [
    "### Support Vector Machine (SVM)"
   ]
  },
  {
   "cell_type": "code",
   "execution_count": 1359,
   "id": "118581c5",
   "metadata": {},
   "outputs": [
    {
     "name": "stdout",
     "output_type": "stream",
     "text": [
      "Accuracy with Training Data: 0.9618\n",
      "Accuracy with Testing Data: 0.9704\n",
      "\n",
      "Confusion Matrix:\n",
      "[[66  2]\n",
      " [ 3 64]]\n",
      "\n",
      "Classification report\n",
      "              precision    recall  f1-score   support\n",
      "\n",
      "           0       0.98      0.96      0.97        68\n",
      "           1       0.96      0.99      0.97        67\n",
      "\n",
      "    accuracy                           0.97       135\n",
      "   macro avg       0.97      0.97      0.97       135\n",
      "weighted avg       0.97      0.97      0.97       135\n",
      "\n"
     ]
    }
   ],
   "source": [
    "# Generate the model and apply it on the train data\n",
    "svmModel = svm.SVC()\n",
    "svmModel.fit(X_train, Y_train.ravel())\n",
    "\n",
    "\n",
    "# Performance on train and test data\n",
    "svmPredictTrain = svmModel.predict(X_train)\n",
    "svmPredictTest = svmModel.predict(X_test)\n",
    "print(\"Accuracy with Training Data: {0:.4f}\".format(metrics.accuracy_score(Y_train, svmPredictTrain)))\n",
    "print(\"Accuracy with Testing Data: {0:.4f}\".format(metrics.accuracy_score(Y_test, svmPredictTest)))\n",
    "print(\"\")\n",
    "\n",
    "# Metrics\n",
    "print(\"Confusion Matrix:\");\n",
    "print(\"{0}\".format(metrics.confusion_matrix(Y_test, grid_predictions)))\n",
    "print(\"\")\n",
    "print(\"Classification report\")\n",
    "print(metrics.classification_report(Y_test, svmPredictTest))"
   ]
  },
  {
   "cell_type": "markdown",
   "id": "0e18685f",
   "metadata": {},
   "source": [
    "With K-fold cross validation"
   ]
  },
  {
   "cell_type": "code",
   "execution_count": 1360,
   "id": "4b68206e",
   "metadata": {
    "scrolled": false
   },
   "outputs": [
    {
     "name": "stdout",
     "output_type": "stream",
     "text": [
      "TRAINING DATA WITH K-FOLD = 10\n",
      "Best score  0.9553427419354839\n",
      "Best parameters  {'C': 10, 'gamma': 0.001, 'kernel': 'rbf'}\n",
      "Best estimator  SVC(C=10, gamma=0.001)\n",
      "\n",
      "TESTING DATA\n",
      "Accuracy: 0.962963\n",
      "              precision    recall  f1-score   support\n",
      "\n",
      "           0       0.96      0.97      0.96        68\n",
      "           1       0.97      0.96      0.96        67\n",
      "\n",
      "    accuracy                           0.96       135\n",
      "   macro avg       0.96      0.96      0.96       135\n",
      "weighted avg       0.96      0.96      0.96       135\n",
      "\n",
      "Area Under the ROC Curve 0.996268656716418\n"
     ]
    },
    {
     "data": {
      "image/png": "[encoded data removed]",
      "text/plain": [
       "<Figure size 432x288 with 2 Axes>"
      ]
     },
     "metadata": {
      "needs_background": "light"
     },
     "output_type": "display_data"
    }
   ],
   "source": [
    "kfold_number = 10;\n",
    "model_Hiperparameters = {'C': [0.1, 1, 10, 100, 1000],\n",
    "              'gamma': [1, 0.1, 0.01, 0.001, 0.0001],\n",
    "              'kernel': ['rbf']}\n",
    " \n",
    "grid = GridSearchCV(svm.SVC(), model_Hiperparameters, refit = True, cv=kfold_number)\n",
    "\n",
    "# fitting the model for grid search\n",
    "grid.fit(X_train, Y_train.ravel())\n",
    "\n",
    "# print best score and parameter after tuning for TRAINING DATA\n",
    "print(\"TRAINING DATA WITH K-FOLD = {0}\".format(kfold_number));\n",
    "print(\"Best score \", grid.best_score_)\n",
    "print(\"Best parameters \", grid.best_params_)\n",
    "# print how our model looks after hyper-parameter tuning\n",
    "print(\"Best estimator \", grid.best_estimator_)\n",
    "\n",
    "# Perform prediction with TESTING DATA with best estimator\n",
    "grid_predictions = grid.predict(X_test)\n",
    " \n",
    "# print classification report\n",
    "print(\"\");\n",
    "print(\"TESTING DATA\");\n",
    "print(\"Accuracy: {0:.6f}\".format(metrics.accuracy_score(Y_test, grid_predictions)))\n",
    "labels = ['benign', 'malignant']\n",
    "cm = metrics.confusion_matrix(Y_test, grid_predictions)\n",
    "metrics.ConfusionMatrixDisplay(cm, display_labels=labels).plot()\n",
    "print(metrics.classification_report(Y_test, grid_predictions))\n",
    "\n",
    "print(\"Area Under the ROC Curve {}\".format(roc_auc_score(Y_test, grid.decision_function(X_test))))\n",
    "\n",
    "\n"
   ]
  },
  {
   "cell_type": "code",
   "execution_count": 1361,
   "id": "3743b94b",
   "metadata": {},
   "outputs": [
    {
     "name": "stdout",
     "output_type": "stream",
     "text": [
      "0.94577 accuracy with a standard deviation of 0.02907\n",
      "Recall mean={0}, std={1}, values= 0.9522058823529411 0.045237024750800076\n",
      "Precision 0.9528362573099415 0.05895944164164875\n",
      "F1 0.9502017764517765 0.02529981163260904\n"
     ]
    }
   ],
   "source": [
    "classifier = svm.SVC(kernel='linear', C=1)\n",
    "scores = cross_val_score(classifier, X_train, Y_train.ravel(), cv=10)\n",
    "\n",
    "print(\"%0.5f accuracy with a standard deviation of %0.5f\" % (scores.mean(), scores.std()))\n",
    "recall = cross_val_score(classifier, X_train, Y_train.ravel(), cv=10, scoring='recall')\n",
    "print('Recall mean={0}, std={1}, values=', np.mean(recall), recall.std())\n",
    "precision = cross_val_score(classifier, X_train, Y_train.ravel(), cv=10, scoring='precision')\n",
    "print('Precision', np.mean(precision), precision.std())\n",
    "f1 = cross_val_score(classifier, X_train, Y_train.ravel(), cv=10, scoring='f1')\n",
    "print('F1', np.mean(f1), f1.std())\n",
    "\n"
   ]
  },
  {
   "cell_type": "markdown",
   "id": "97db7bd1",
   "metadata": {},
   "source": [
    "### Naive Bayes"
   ]
  },
  {
   "cell_type": "code",
   "execution_count": 1362,
   "id": "f0f9b980",
   "metadata": {},
   "outputs": [
    {
     "name": "stdout",
     "output_type": "stream",
     "text": [
      "Accuracy with Training Data: 0.9459\n",
      "Accuracy with Testing Data: 0.9556\n",
      "\n",
      "Confusion matrix\n",
      "[[64  4]\n",
      " [ 2 65]]\n",
      "\n",
      "Classification report\n",
      "              precision    recall  f1-score   support\n",
      "\n",
      "           0       0.97      0.94      0.96        68\n",
      "           1       0.94      0.97      0.96        67\n",
      "\n",
      "    accuracy                           0.96       135\n",
      "   macro avg       0.96      0.96      0.96       135\n",
      "weighted avg       0.96      0.96      0.96       135\n",
      "\n"
     ]
    }
   ],
   "source": [
    "# Create Gaussian Naive Bayes object model and train it with the data\n",
    "nbModel = GaussianNB();\n",
    "nbModel.fit(X_train, Y_train.ravel())\n",
    "\n",
    "# Performance on train and test data\n",
    "nbPredictTrain = nbModel.predict(X_train)\n",
    "nbPredictTest = nbModel.predict(X_test)\n",
    "print(\"Accuracy with Training Data: {0:.4f}\".format(metrics.accuracy_score(Y_train, nbPredictTrain)))\n",
    "print(\"Accuracy with Testing Data: {0:.4f}\".format(metrics.accuracy_score(Y_test, nbPredictTest)))\n",
    "print(\"\")\n",
    "\n",
    "# Metrics\n",
    "print(\"Confusion matrix\")\n",
    "print(\"{0}\".format(metrics.confusion_matrix(Y_test, nbPredictTest)))\n",
    "print(\"\")\n",
    "print(\"Classification report\")\n",
    "print(metrics.classification_report(Y_test, nbPredictTest))"
   ]
  },
  {
   "cell_type": "markdown",
   "id": "e3b74f7a",
   "metadata": {},
   "source": [
    "With K-Fold cross validation"
   ]
  },
  {
   "cell_type": "code",
   "execution_count": 1363,
   "id": "be69d9df",
   "metadata": {},
   "outputs": [
    {
     "name": "stdout",
     "output_type": "stream",
     "text": [
      "TRAINING DATA WITH K-FOLD = 10\n",
      "Best score  0.9459677419354838\n",
      "Best parameters  {'var_smoothing': 0.1873817422860384}\n",
      "Best estimator  GaussianNB(var_smoothing=0.1873817422860384)\n",
      "\n",
      "TESTING DATA\n",
      "Accuracy: 0.948148\n",
      "Confusion Matrix:\n",
      "[[65  3]\n",
      " [ 4 63]]\n",
      "              precision    recall  f1-score   support\n",
      "\n",
      "           0       0.94      0.96      0.95        68\n",
      "           1       0.95      0.94      0.95        67\n",
      "\n",
      "    accuracy                           0.95       135\n",
      "   macro avg       0.95      0.95      0.95       135\n",
      "weighted avg       0.95      0.95      0.95       135\n",
      "\n",
      "Area Under the ROC Curve 0.9938542581211589\n"
     ]
    },
    {
     "data": {
      "image/png": "[encoded data removed]",
      "text/plain": [
       "<Figure size 432x288 with 2 Axes>"
      ]
     },
     "metadata": {
      "needs_background": "light"
     },
     "output_type": "display_data"
    }
   ],
   "source": [
    "kfold_number = 10;\n",
    "model_Hiperparameters = {'var_smoothing': np.logspace(0,-9, num=100)}\n",
    "nbModel = GaussianNB()\n",
    " \n",
    "grid = GridSearchCV(nbModel, model_Hiperparameters, refit = True, cv=kfold_number)\n",
    "\n",
    "# fitting the model for grid search\n",
    "grid.fit(X_train, Y_train.ravel())\n",
    "\n",
    "# print best score and parameter after tuning for TRAINING DATA\n",
    "print(\"TRAINING DATA WITH K-FOLD = {0}\".format(kfold_number));\n",
    "print(\"Best score \", grid.best_score_)\n",
    "print(\"Best parameters \", grid.best_params_)\n",
    "# print how our model looks after hyper-parameter tuning\n",
    "print(\"Best estimator \", grid.best_estimator_)\n",
    "\n",
    "# Perform prediction with TESTING DATA with best estimator\n",
    "grid_predictions = grid.predict(X_test)\n",
    " \n",
    "# print classification report\n",
    "print(\"\");\n",
    "print(\"TESTING DATA\");\n",
    "print(\"Accuracy: {0:.6f}\".format(metrics.accuracy_score(Y_test, grid_predictions)))\n",
    "print(\"Confusion Matrix:\");\n",
    "print(\"{0}\".format(metrics.confusion_matrix(Y_test, grid_predictions)))\n",
    "labels = ['benign', 'malignant']\n",
    "cm = metrics.confusion_matrix(Y_test, grid_predictions)\n",
    "metrics.ConfusionMatrixDisplay(cm, display_labels=labels).plot()\n",
    "print(metrics.classification_report(Y_test, grid_predictions))\n",
    "\n",
    "#print(\"Area Under the ROC Curve {}\".format(roc_auc_score(Y_test, grid.decision_function(X_test))))\n",
    "print(\"Area Under the ROC Curve {}\".format(roc_auc_score(Y_test, grid.predict_proba(X_test)[:, 1])))\n",
    "\n",
    "\n",
    "\n",
    "\n"
   ]
  },
  {
   "cell_type": "markdown",
   "id": "592e1b51",
   "metadata": {},
   "source": [
    "### Random Forest"
   ]
  },
  {
   "cell_type": "code",
   "execution_count": 1364,
   "id": "533f83bf",
   "metadata": {},
   "outputs": [
    {
     "name": "stdout",
     "output_type": "stream",
     "text": [
      "Accuracy with Training Data: 1.0000\n",
      "Accuracy with Testing Data: 0.9704\n",
      "\n",
      "Confusion matrix\n",
      "[[66  2]\n",
      " [ 2 65]]\n",
      "\n",
      "Classification report\n",
      "              precision    recall  f1-score   support\n",
      "\n",
      "           0       0.97      0.97      0.97        68\n",
      "           1       0.97      0.97      0.97        67\n",
      "\n",
      "    accuracy                           0.97       135\n",
      "   macro avg       0.97      0.97      0.97       135\n",
      "weighted avg       0.97      0.97      0.97       135\n",
      "\n"
     ]
    }
   ],
   "source": [
    "# Generate the model and apply it on the train data\n",
    "rfModel = RandomForestClassifier(random_state=42);\n",
    "rfModel.fit(X_train, Y_train.ravel())\n",
    "\n",
    "# Performance on train and test data\n",
    "rfPredictTrain = rfModel.predict(X_train)\n",
    "rfPredictTest = rfModel.predict(X_test)\n",
    "print(\"Accuracy with Training Data: {0:.4f}\".format(metrics.accuracy_score(Y_train, rfPredictTrain)))\n",
    "print(\"Accuracy with Testing Data: {0:.4f}\".format(metrics.accuracy_score(Y_test, rfPredictTest)))\n",
    "print(\"\")\n",
    "\n",
    "# Metrics\n",
    "print(\"Confusion matrix\")\n",
    "print(\"{0}\".format(metrics.confusion_matrix(Y_test, rfPredictTest)))\n",
    "print(\"\")\n",
    "print(\"Classification report\")\n",
    "print(metrics.classification_report(Y_test, rfPredictTest))"
   ]
  },
  {
   "cell_type": "markdown",
   "id": "1dd0212e",
   "metadata": {},
   "source": [
    "With k-fold cross validation"
   ]
  },
  {
   "cell_type": "code",
   "execution_count": 1365,
   "id": "08107156",
   "metadata": {},
   "outputs": [
    {
     "name": "stdout",
     "output_type": "stream",
     "text": [
      "TRAINING DATA WITH K-FOLD = 10\n",
      "Best score  0.945766129032258\n",
      "Best parameters  {'max_features': 'sqrt', 'n_estimators': 200, 'oob_score': True}\n",
      "Best estimator  RandomForestClassifier(max_features='sqrt', n_estimators=200, n_jobs=-1,\n",
      "                       oob_score=True)\n",
      "\n",
      "TESTING DATA\n",
      "Accuracy: 0.977778\n",
      "Confusion Matrix:\n",
      "[[66  2]\n",
      " [ 1 66]]\n",
      "              precision    recall  f1-score   support\n",
      "\n",
      "           0       0.99      0.97      0.98        68\n",
      "           1       0.97      0.99      0.98        67\n",
      "\n",
      "    accuracy                           0.98       135\n",
      "   macro avg       0.98      0.98      0.98       135\n",
      "weighted avg       0.98      0.98      0.98       135\n",
      "\n",
      "Area Under the ROC Curve 0.9939640035118525\n"
     ]
    },
    {
     "data": {
      "image/png": "[encoded data removed]",
      "text/plain": [
       "<Figure size 432x288 with 2 Axes>"
      ]
     },
     "metadata": {
      "needs_background": "light"
     },
     "output_type": "display_data"
    }
   ],
   "source": [
    "rfc = RandomForestClassifier(n_jobs=-1) \n",
    "\n",
    "model_Hiperparameters = { \n",
    "    'n_estimators': [200, 700],\n",
    "    'max_features': ['auto', 'sqrt', 'log2'],\n",
    "    'oob_score': [True, False]\n",
    "}\n",
    "\n",
    "kfold_number = 10;\n",
    " \n",
    "grid = GridSearchCV(rfc, model_Hiperparameters, refit = True, cv=kfold_number)\n",
    "\n",
    "# fitting the model for grid search\n",
    "grid.fit(X_train, Y_train.ravel())\n",
    "\n",
    "# print best score and parameter after tuning for TRAINING DATA\n",
    "print(\"TRAINING DATA WITH K-FOLD = {0}\".format(kfold_number));\n",
    "print(\"Best score \", grid.best_score_)\n",
    "print(\"Best parameters \", grid.best_params_)\n",
    "# print how our model looks after hyper-parameter tuning\n",
    "print(\"Best estimator \", grid.best_estimator_)\n",
    "\n",
    "# Perform prediction with TESTING DATA with best estimator\n",
    "grid_predictions = grid.predict(X_test)\n",
    " \n",
    "# print classification report\n",
    "print(\"\");\n",
    "print(\"TESTING DATA\");\n",
    "print(\"Accuracy: {0:.6f}\".format(metrics.accuracy_score(Y_test, grid_predictions)))\n",
    "print(\"Confusion Matrix:\");\n",
    "print(\"{0}\".format(metrics.confusion_matrix(Y_test, grid_predictions)))\n",
    "labels = ['benign', 'malignant']\n",
    "cm = metrics.confusion_matrix(Y_test, grid_predictions)\n",
    "metrics.ConfusionMatrixDisplay(cm, display_labels=labels).plot()\n",
    "print(metrics.classification_report(Y_test, grid_predictions))\n",
    "\n",
    "print(\"Area Under the ROC Curve {}\".format(roc_auc_score(Y_test, grid.predict_proba(X_test)[:, 1])))\n"
   ]
  },
  {
   "cell_type": "markdown",
   "id": "f84bf109",
   "metadata": {},
   "source": [
    "### Logistic reggression\n"
   ]
  },
  {
   "cell_type": "code",
   "execution_count": 1366,
   "id": "6e60a9a5",
   "metadata": {},
   "outputs": [
    {
     "name": "stdout",
     "output_type": "stream",
     "text": [
      "Accuracy with Training Data: 0.9522\n",
      "Accuracy with Testing Data: 0.9481\n",
      "\n",
      "Confusion matrix\n",
      "[[66  2]\n",
      " [ 5 62]]\n",
      "\n",
      "Classification report\n",
      "              precision    recall  f1-score   support\n",
      "\n",
      "           0       0.93      0.97      0.95        68\n",
      "           1       0.97      0.93      0.95        67\n",
      "\n",
      "    accuracy                           0.95       135\n",
      "   macro avg       0.95      0.95      0.95       135\n",
      "weighted avg       0.95      0.95      0.95       135\n",
      "\n"
     ]
    }
   ],
   "source": [
    "# Generate the model and apply it on the train data\n",
    "lrModel = LogisticRegression(C=0.7, random_state=42);\n",
    "lrModel.fit(X_train, Y_train.ravel())\n",
    "\n",
    "# Performance on train and test data\n",
    "lrPredictTrain = lrModel.predict(X_train)\n",
    "lrPredictTest = lrModel.predict(X_test)\n",
    "print(\"Accuracy with Training Data: {0:.4f}\".format(metrics.accuracy_score(Y_train, lrPredictTrain)))\n",
    "print(\"Accuracy with Testing Data: {0:.4f}\".format(metrics.accuracy_score(Y_test, lrPredictTest)))\n",
    "print(\"\")\n",
    "\n",
    "# Metrics\n",
    "print(\"Confusion matrix\")\n",
    "print(\"{0}\".format(metrics.confusion_matrix(Y_test, lrPredictTest)))\n",
    "print(\"\")\n",
    "print(\"Classification report\")\n",
    "print(metrics.classification_report(Y_test, lrPredictTest))"
   ]
  },
  {
   "cell_type": "markdown",
   "id": "b600dbb3",
   "metadata": {},
   "source": [
    "With k-fold cross validation"
   ]
  },
  {
   "cell_type": "code",
   "execution_count": 1367,
   "id": "554de3f9",
   "metadata": {},
   "outputs": [
    {
     "name": "stdout",
     "output_type": "stream",
     "text": [
      "Accuracy with Training Data: 0.9522\n",
      "\n",
      "TESTING DATA\n",
      "Accuracy with Testing Data: 0.9481\n",
      "\n",
      "Confusion matrix\n",
      "[[66  2]\n",
      " [ 5 62]]\n",
      "\n",
      "Classification report\n",
      "              precision    recall  f1-score   support\n",
      "\n",
      "           0       0.93      0.97      0.95        68\n",
      "           1       0.97      0.93      0.95        67\n",
      "\n",
      "    accuracy                           0.95       135\n",
      "   macro avg       0.95      0.95      0.95       135\n",
      "weighted avg       0.95      0.95      0.95       135\n",
      "\n",
      "Area Under the ROC Curve 0.9962686567164178\n"
     ]
    },
    {
     "data": {
      "image/png": "[encoded data removed]",
      "text/plain": [
       "<Figure size 432x288 with 2 Axes>"
      ]
     },
     "metadata": {
      "needs_background": "light"
     },
     "output_type": "display_data"
    }
   ],
   "source": [
    "kfold_number = 10;\n",
    "\n",
    "# Generate the model and apply it on the train data\n",
    "lrcvModel = LogisticRegressionCV(n_jobs=-1, cv=kfold_number, Cs=5, random_state=42, class_weight=\"balanced\", refit=False);\n",
    "lrcvModel.fit(X_train, Y_train.ravel())\n",
    "\n",
    "# Performance on train and test data\n",
    "lrcvPredictTrain = lrcvModel.predict(X_train)\n",
    "lrcvPredictTest = lrcvModel.predict(X_test)\n",
    "print(\"Accuracy with Training Data: {0:.4f}\".format(metrics.accuracy_score(Y_train, lrcvPredictTrain)))\n",
    "\n",
    "# Metrics\n",
    "print(\"\");\n",
    "print(\"TESTING DATA\");\n",
    "print(\"Accuracy with Testing Data: {0:.4f}\".format(metrics.accuracy_score(Y_test, lrcvPredictTest)))\n",
    "print(\"\")\n",
    "print(\"Confusion matrix\")\n",
    "print(\"{0}\".format(metrics.confusion_matrix(Y_test, lrcvPredictTest)))\n",
    "print(\"\")\n",
    "labels = ['benign', 'malignant']\n",
    "cm = metrics.confusion_matrix(Y_test, lrcvPredictTest)\n",
    "metrics.ConfusionMatrixDisplay(cm, display_labels=labels).plot()\n",
    "print(\"Classification report\")\n",
    "print(metrics.classification_report(Y_test, lrcvPredictTest))\n",
    "\n",
    "print(\"Area Under the ROC Curve {}\".format(roc_auc_score(Y_test, lrcvModel.decision_function(X_test))))\n"
   ]
  },
  {
   "cell_type": "markdown",
   "id": "e0e65a72",
   "metadata": {},
   "source": [
    "### Decision Tree Classifier"
   ]
  },
  {
   "cell_type": "code",
   "execution_count": 1368,
   "id": "2d4786b6",
   "metadata": {},
   "outputs": [
    {
     "name": "stdout",
     "output_type": "stream",
     "text": [
      "Accuracy with Training Data: 1.0000\n",
      "Accuracy with Testing Data: 0.9333\n",
      "\n",
      "Confusion matrix\n",
      "[[64  4]\n",
      " [ 5 62]]\n",
      "\n",
      "Classification report\n",
      "              precision    recall  f1-score   support\n",
      "\n",
      "           0       0.93      0.94      0.93        68\n",
      "           1       0.94      0.93      0.93        67\n",
      "\n",
      "    accuracy                           0.93       135\n",
      "   macro avg       0.93      0.93      0.93       135\n",
      "weighted avg       0.93      0.93      0.93       135\n",
      "\n"
     ]
    }
   ],
   "source": [
    "# Generate the model and apply it on the train data\n",
    "dtModel = DecisionTreeClassifier()\n",
    "dtModel.fit(X_train, Y_train.ravel())\n",
    "\n",
    "# Performance on train and test data\n",
    "dtPredictTrain = dtModel.predict(X_train)\n",
    "dtPredictTest = dtModel.predict(X_test)\n",
    "print(\"Accuracy with Training Data: {0:.4f}\".format(metrics.accuracy_score(Y_train, dtPredictTrain)))\n",
    "print(\"Accuracy with Testing Data: {0:.4f}\".format(metrics.accuracy_score(Y_test, dtPredictTest)))\n",
    "print(\"\")\n",
    "\n",
    "# Metrics\n",
    "print(\"Confusion matrix\")\n",
    "print(\"{0}\".format(metrics.confusion_matrix(Y_test, dtPredictTest)))\n",
    "print(\"\")\n",
    "print(\"Classification report\")\n",
    "print(metrics.classification_report(Y_test, dtPredictTest))"
   ]
  },
  {
   "cell_type": "markdown",
   "id": "25e37d38",
   "metadata": {},
   "source": [
    "With k-fold cross validation"
   ]
  },
  {
   "cell_type": "code",
   "execution_count": 1369,
   "id": "c1318576",
   "metadata": {},
   "outputs": [
    {
     "name": "stdout",
     "output_type": "stream",
     "text": [
      "TRAINING DATA WITH K-FOLD = 10\n",
      "Best score  0.9237903225806452\n",
      "Best parameters  {'criterion': 'entropy', 'max_depth': 4}\n",
      "Best estimator  DecisionTreeClassifier(criterion='entropy', max_depth=4)\n",
      "\n",
      "TESTING DATA\n",
      "Accuracy: 0.933333\n",
      "Confusion Matrix:\n",
      "[[64  4]\n",
      " [ 5 62]]\n",
      "              precision    recall  f1-score   support\n",
      "\n",
      "           0       0.93      0.94      0.93        68\n",
      "           1       0.94      0.93      0.93        67\n",
      "\n",
      "    accuracy                           0.93       135\n",
      "   macro avg       0.93      0.93      0.93       135\n",
      "weighted avg       0.93      0.93      0.93       135\n",
      "\n",
      "Area Under the ROC Curve 0.9585162423178226\n"
     ]
    },
    {
     "data": {
      "image/png": "[encoded data removed]",
      "text/plain": [
       "<Figure size 432x288 with 2 Axes>"
      ]
     },
     "metadata": {
      "needs_background": "light"
     },
     "output_type": "display_data"
    }
   ],
   "source": [
    "rfc = DecisionTreeClassifier() \n",
    "\n",
    "model_Hiperparameters = {\n",
    "    'criterion':['gini','entropy'],\n",
    "    'max_depth': np.arange(3, 15)\n",
    "}\n",
    "\n",
    "kfold_number = 10;\n",
    " \n",
    "grid = GridSearchCV(rfc, model_Hiperparameters, refit = True, cv=kfold_number)\n",
    "\n",
    "# fitting the model for grid search\n",
    "grid.fit(X_train, Y_train.ravel())\n",
    "\n",
    "# print best score and parameter after tuning for TRAINING DATA\n",
    "print(\"TRAINING DATA WITH K-FOLD = {0}\".format(kfold_number));\n",
    "print(\"Best score \", grid.best_score_)\n",
    "print(\"Best parameters \", grid.best_params_)\n",
    "# print how our model looks after hyper-parameter tuning\n",
    "print(\"Best estimator \", grid.best_estimator_)\n",
    "\n",
    "# Perform prediction with TESTING DATA with best estimator\n",
    "grid_predictions = grid.predict(X_test)\n",
    " \n",
    "# print classification report\n",
    "print(\"\");\n",
    "print(\"TESTING DATA\");\n",
    "print(\"Accuracy: {0:.6f}\".format(metrics.accuracy_score(Y_test, grid_predictions)))\n",
    "print(\"Confusion Matrix:\");\n",
    "print(\"{0}\".format(metrics.confusion_matrix(Y_test, grid_predictions)))\n",
    "labels = ['benign', 'malignant']\n",
    "cm = metrics.confusion_matrix(Y_test, grid_predictions)\n",
    "metrics.ConfusionMatrixDisplay(cm, display_labels=labels).plot()\n",
    "print(metrics.classification_report(Y_test, grid_predictions))\n",
    "\n",
    "#print(\"Area Under the ROC Curve {}\".format(roc_auc_score(Y_test, grid.decision_function(X_test))))\n",
    "print(\"Area Under the ROC Curve {}\".format(roc_auc_score(Y_test, grid.predict_proba(X_test)[:, 1])))\n",
    "\n"
   ]
  },
  {
   "cell_type": "markdown",
   "id": "b44f94de",
   "metadata": {},
   "source": [
    "### k-Nearest-Neighbors (k-NN)"
   ]
  },
  {
   "cell_type": "code",
   "execution_count": 1370,
   "id": "7251ec44",
   "metadata": {},
   "outputs": [
    {
     "name": "stdout",
     "output_type": "stream",
     "text": [
      "Accuracy with Training Data: 0.9682\n",
      "Accuracy with Testing Data: 0.9630\n",
      "\n",
      "Confusion matrix\n",
      "[[65  3]\n",
      " [ 2 65]]\n",
      "\n",
      "Classification report\n",
      "              precision    recall  f1-score   support\n",
      "\n",
      "           0       0.97      0.96      0.96        68\n",
      "           1       0.96      0.97      0.96        67\n",
      "\n",
      "    accuracy                           0.96       135\n",
      "   macro avg       0.96      0.96      0.96       135\n",
      "weighted avg       0.96      0.96      0.96       135\n",
      "\n"
     ]
    }
   ],
   "source": [
    "# Create KNN classifier\n",
    "knnModel = KNeighborsClassifier(n_neighbors = 3)\n",
    "# Fit the classifier to the data\n",
    "knnModel.fit(X_train, Y_train.ravel())\n",
    "\n",
    "\n",
    "# Performance on train and test data\n",
    "knnPredictTrain = knnModel.predict(X_train)\n",
    "knnPredictTest = knnModel.predict(X_test)\n",
    "print(\"Accuracy with Training Data: {0:.4f}\".format(metrics.accuracy_score(Y_train, knnPredictTrain)))\n",
    "print(\"Accuracy with Testing Data: {0:.4f}\".format(metrics.accuracy_score(Y_test, knnPredictTest)))\n",
    "print(\"\")\n",
    "\n",
    "# Metrics\n",
    "print(\"Confusion matrix\")\n",
    "print(\"{0}\".format(metrics.confusion_matrix(Y_test, knnPredictTest)))\n",
    "print(\"\")\n",
    "print(\"Classification report\")\n",
    "print(metrics.classification_report(Y_test, knnPredictTest))"
   ]
  },
  {
   "cell_type": "code",
   "execution_count": 1371,
   "id": "89843dc7",
   "metadata": {},
   "outputs": [
    {
     "name": "stdout",
     "output_type": "stream",
     "text": [
      "TRAINING DATA WITH K-FOLD = 10\n",
      "Best score  0.9522177419354838\n",
      "Best parameters  {'n_neighbors': 5}\n",
      "Best estimator  KNeighborsClassifier()\n",
      "\n",
      "TESTING DATA\n",
      "Accuracy: 0.970370\n",
      "Confusion Matrix:\n",
      "[[66  2]\n",
      " [ 2 65]]\n",
      "              precision    recall  f1-score   support\n",
      "\n",
      "           0       0.97      0.97      0.97        68\n",
      "           1       0.97      0.97      0.97        67\n",
      "\n",
      "    accuracy                           0.97       135\n",
      "   macro avg       0.97      0.97      0.97       135\n",
      "weighted avg       0.97      0.97      0.97       135\n",
      "\n",
      "Area Under the ROC Curve 0.9931957857769973\n"
     ]
    },
    {
     "data": {
      "image/png": "[encoded data removed]",
      "text/plain": [
       "<Figure size 432x288 with 2 Axes>"
      ]
     },
     "metadata": {
      "needs_background": "light"
     },
     "output_type": "display_data"
    }
   ],
   "source": [
    "classifier = KNeighborsClassifier() \n",
    "\n",
    "model_Hiperparameters = {\n",
    "    'n_neighbors': np.arange(1, 25)\n",
    "}\n",
    "\n",
    "kfold_number = 10;\n",
    " \n",
    "grid = GridSearchCV(classifier, model_Hiperparameters, refit = True, cv=kfold_number)\n",
    "\n",
    "# fitting the model for grid search\n",
    "grid.fit(X_train, Y_train.ravel())\n",
    "\n",
    "# print best score and parameter after tuning for TRAINING DATA\n",
    "print(\"TRAINING DATA WITH K-FOLD = {0}\".format(kfold_number));\n",
    "print(\"Best score \", grid.best_score_)\n",
    "print(\"Best parameters \", grid.best_params_)\n",
    "# print how our model looks after hyper-parameter tuning\n",
    "print(\"Best estimator \", grid.best_estimator_)\n",
    "\n",
    "# Perform prediction with TESTING DATA with best estimator\n",
    "grid_predictions = grid.predict(X_test)\n",
    " \n",
    "# print classification report\n",
    "print(\"\");\n",
    "print(\"TESTING DATA\");\n",
    "print(\"Accuracy: {0:.6f}\".format(metrics.accuracy_score(Y_test, grid_predictions)))\n",
    "print(\"Confusion Matrix:\");\n",
    "print(\"{0}\".format(metrics.confusion_matrix(Y_test, grid_predictions)))\n",
    "labels = ['benign', 'malignant']\n",
    "cm = metrics.confusion_matrix(Y_test, grid_predictions)\n",
    "metrics.ConfusionMatrixDisplay(cm, display_labels=labels).plot()\n",
    "print(metrics.classification_report(Y_test, grid_predictions))\n",
    "\n",
    "#print(\"Area Under the ROC Curve {}\".format(roc_auc_score(Y_test, grid.decision_function(X_test))))\n",
    "print(\"Area Under the ROC Curve {}\".format(roc_auc_score(Y_test, grid.predict_proba(X_test)[:, 1])))\n",
    "\n",
    "\n"
   ]
  },
  {
   "cell_type": "markdown",
   "id": "fdebab0d",
   "metadata": {},
   "source": [
    "### K-Means"
   ]
  },
  {
   "cell_type": "code",
   "execution_count": 1372,
   "id": "86f40331",
   "metadata": {},
   "outputs": [
    {
     "name": "stdout",
     "output_type": "stream",
     "text": [
      "Accuracy with Training Data: 0.9204\n",
      "Accuracy with Testing Data: 0.9407\n",
      "\n",
      "Confusion matrix\n",
      "[[67  1]\n",
      " [ 7 60]]\n",
      "\n",
      "Classification report\n",
      "              precision    recall  f1-score   support\n",
      "\n",
      "           0       0.91      0.99      0.94        68\n",
      "           1       0.98      0.90      0.94        67\n",
      "\n",
      "    accuracy                           0.94       135\n",
      "   macro avg       0.94      0.94      0.94       135\n",
      "weighted avg       0.94      0.94      0.94       135\n",
      "\n"
     ]
    },
    {
     "data": {
      "image/png": "[encoded data removed]",
      "text/plain": [
       "<Figure size 432x288 with 2 Axes>"
      ]
     },
     "metadata": {
      "needs_background": "light"
     },
     "output_type": "display_data"
    }
   ],
   "source": [
    "# Create KNN classifier\n",
    "kmModel = KMeans(n_clusters=2, random_state=1)\n",
    "# Fit the classifier to the data\n",
    "kmModel.fit(X_train, Y_train.ravel())\n",
    "\n",
    "\n",
    "# Performance on train and test data\n",
    "kmPredictTrain = kmModel.predict(X_train)\n",
    "kmPredictTest = kmModel.predict(X_test)\n",
    "print(\"Accuracy with Training Data: {0:.4f}\".format(metrics.accuracy_score(Y_train, kmPredictTrain)))\n",
    "print(\"Accuracy with Testing Data: {0:.4f}\".format(metrics.accuracy_score(Y_test, kmPredictTest)))\n",
    "print(\"\")\n",
    "\n",
    "# Metrics\n",
    "print(\"Confusion matrix\")\n",
    "print(\"{0}\".format(metrics.confusion_matrix(Y_test, kmPredictTest)))\n",
    "labels = ['benign', 'malignant']\n",
    "cm = metrics.confusion_matrix(Y_test, kmPredictTest)\n",
    "metrics.ConfusionMatrixDisplay(cm, display_labels=labels).plot()\n",
    "print(\"\")\n",
    "print(\"Classification report\")\n",
    "print(metrics.classification_report(Y_test, kmPredictTest))\n",
    "\n",
    "\n",
    "\n",
    "\n"
   ]
  }
 ],
 "metadata": {
  "kernelspec": {
   "display_name": "Python 3",
   "language": "python",
   "name": "python3"
  },
  "language_info": {
   "codemirror_mode": {
    "name": "ipython",
    "version": 3
   },
   "file_extension": ".py",
   "mimetype": "text/x-python",
   "name": "python",
   "nbconvert_exporter": "python",
   "pygments_lexer": "ipython3",
   "version": "3.8.8"
  }
 },
 "nbformat": 4,
 "nbformat_minor": 5
}
